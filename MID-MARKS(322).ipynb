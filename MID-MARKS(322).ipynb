{
 "cells": [
  {
   "cell_type": "markdown",
   "id": "7ab382a9-14a0-450c-a368-ac3baf6051e1",
   "metadata": {},
   "source": [
    "# NAME    :P.NARENDER\n",
    "# Roll No.:2211CS010322\n",
    "# Group   :4 (3rd year)"
   ]
  },
  {
   "cell_type": "code",
   "execution_count": 1,
   "id": "0e99498e-0618-4fe8-97d2-f60a1de8bbb5",
   "metadata": {},
   "outputs": [
    {
     "data": {
      "text/html": [
       "<div>\n",
       "<style scoped>\n",
       "    .dataframe tbody tr th:only-of-type {\n",
       "        vertical-align: middle;\n",
       "    }\n",
       "\n",
       "    .dataframe tbody tr th {\n",
       "        vertical-align: top;\n",
       "    }\n",
       "\n",
       "    .dataframe thead th {\n",
       "        text-align: right;\n",
       "    }\n",
       "</style>\n",
       "<table border=\"1\" class=\"dataframe\">\n",
       "  <thead>\n",
       "    <tr style=\"text-align: right;\">\n",
       "      <th></th>\n",
       "      <th>S.NO</th>\n",
       "      <th>SECTION</th>\n",
       "      <th>DV</th>\n",
       "      <th>M-II</th>\n",
       "      <th>PP</th>\n",
       "      <th>BEEE</th>\n",
       "      <th>FL</th>\n",
       "      <th>FIMS</th>\n",
       "    </tr>\n",
       "  </thead>\n",
       "  <tbody>\n",
       "    <tr>\n",
       "      <th>0</th>\n",
       "      <td>1.0</td>\n",
       "      <td>ALPHA</td>\n",
       "      <td>12</td>\n",
       "      <td>0</td>\n",
       "      <td>17</td>\n",
       "      <td>9</td>\n",
       "      <td>19</td>\n",
       "      <td>15</td>\n",
       "    </tr>\n",
       "    <tr>\n",
       "      <th>1</th>\n",
       "      <td>2.0</td>\n",
       "      <td>ALPHA</td>\n",
       "      <td>19</td>\n",
       "      <td>12</td>\n",
       "      <td>16</td>\n",
       "      <td>16</td>\n",
       "      <td>18</td>\n",
       "      <td>3</td>\n",
       "    </tr>\n",
       "    <tr>\n",
       "      <th>2</th>\n",
       "      <td>3.0</td>\n",
       "      <td>ALPHA</td>\n",
       "      <td>18</td>\n",
       "      <td>14</td>\n",
       "      <td>18</td>\n",
       "      <td>18</td>\n",
       "      <td>18</td>\n",
       "      <td>16</td>\n",
       "    </tr>\n",
       "    <tr>\n",
       "      <th>3</th>\n",
       "      <td>4.0</td>\n",
       "      <td>ALPHA</td>\n",
       "      <td>15</td>\n",
       "      <td>9</td>\n",
       "      <td>19</td>\n",
       "      <td>17</td>\n",
       "      <td>19</td>\n",
       "      <td>15</td>\n",
       "    </tr>\n",
       "    <tr>\n",
       "      <th>4</th>\n",
       "      <td>5.0</td>\n",
       "      <td>ALPHA</td>\n",
       "      <td>18</td>\n",
       "      <td>17</td>\n",
       "      <td>19</td>\n",
       "      <td>19</td>\n",
       "      <td>20</td>\n",
       "      <td>18</td>\n",
       "    </tr>\n",
       "    <tr>\n",
       "      <th>...</th>\n",
       "      <td>...</td>\n",
       "      <td>...</td>\n",
       "      <td>...</td>\n",
       "      <td>...</td>\n",
       "      <td>...</td>\n",
       "      <td>...</td>\n",
       "      <td>...</td>\n",
       "      <td>...</td>\n",
       "    </tr>\n",
       "    <tr>\n",
       "      <th>713</th>\n",
       "      <td>NaN</td>\n",
       "      <td>ZETA</td>\n",
       "      <td>19</td>\n",
       "      <td>8</td>\n",
       "      <td>8</td>\n",
       "      <td>19</td>\n",
       "      <td>17</td>\n",
       "      <td>18</td>\n",
       "    </tr>\n",
       "    <tr>\n",
       "      <th>714</th>\n",
       "      <td>NaN</td>\n",
       "      <td>ZETA</td>\n",
       "      <td>12</td>\n",
       "      <td>1</td>\n",
       "      <td>7</td>\n",
       "      <td>10</td>\n",
       "      <td>20</td>\n",
       "      <td>8</td>\n",
       "    </tr>\n",
       "    <tr>\n",
       "      <th>715</th>\n",
       "      <td>NaN</td>\n",
       "      <td>ZETA</td>\n",
       "      <td>17</td>\n",
       "      <td>6</td>\n",
       "      <td>14</td>\n",
       "      <td>14</td>\n",
       "      <td>17</td>\n",
       "      <td>18</td>\n",
       "    </tr>\n",
       "    <tr>\n",
       "      <th>716</th>\n",
       "      <td>NaN</td>\n",
       "      <td>ZETA</td>\n",
       "      <td>12</td>\n",
       "      <td>1</td>\n",
       "      <td>6</td>\n",
       "      <td>7</td>\n",
       "      <td>15</td>\n",
       "      <td>12</td>\n",
       "    </tr>\n",
       "    <tr>\n",
       "      <th>717</th>\n",
       "      <td>NaN</td>\n",
       "      <td>ZETA</td>\n",
       "      <td>19</td>\n",
       "      <td>14</td>\n",
       "      <td>17</td>\n",
       "      <td>16</td>\n",
       "      <td>20</td>\n",
       "      <td>19</td>\n",
       "    </tr>\n",
       "  </tbody>\n",
       "</table>\n",
       "<p>718 rows × 8 columns</p>\n",
       "</div>"
      ],
      "text/plain": [
       "     S.NO SECTION  DV M-II  PP BEEE  FL FIMS\n",
       "0     1.0   ALPHA  12    0  17    9  19   15\n",
       "1     2.0   ALPHA  19   12  16   16  18    3\n",
       "2     3.0   ALPHA  18   14  18   18  18   16\n",
       "3     4.0   ALPHA  15    9  19   17  19   15\n",
       "4     5.0   ALPHA  18   17  19   19  20   18\n",
       "..    ...     ...  ..  ...  ..  ...  ..  ...\n",
       "713   NaN    ZETA  19    8   8   19  17   18\n",
       "714   NaN    ZETA  12    1   7   10  20    8\n",
       "715   NaN    ZETA  17    6  14   14  17   18\n",
       "716   NaN    ZETA  12    1   6    7  15   12\n",
       "717   NaN    ZETA  19   14  17   16  20   19\n",
       "\n",
       "[718 rows x 8 columns]"
      ]
     },
     "execution_count": 1,
     "metadata": {},
     "output_type": "execute_result"
    }
   ],
   "source": [
    "import pandas as pd\n",
    "df = pd.read_excel(\"MIDMARKS.xlsx\")\n",
    "df"
   ]
  },
  {
   "cell_type": "markdown",
   "id": "82e01a9b-5bdf-4743-b4ba-c9f9be9bf52c",
   "metadata": {},
   "source": [
    "# Importing pandas and reading Excel file data"
   ]
  },
  {
   "cell_type": "code",
   "execution_count": 2,
   "id": "01e0722a-934d-4c71-8870-e7fc5d45cf17",
   "metadata": {},
   "outputs": [],
   "source": [
    "df = df.drop([564, 601])"
   ]
  },
  {
   "cell_type": "code",
   "execution_count": 3,
   "id": "dec820e7-e648-44eb-aff7-b1956acefa4b",
   "metadata": {},
   "outputs": [
    {
     "data": {
      "text/html": [
       "<div>\n",
       "<style scoped>\n",
       "    .dataframe tbody tr th:only-of-type {\n",
       "        vertical-align: middle;\n",
       "    }\n",
       "\n",
       "    .dataframe tbody tr th {\n",
       "        vertical-align: top;\n",
       "    }\n",
       "\n",
       "    .dataframe thead th {\n",
       "        text-align: right;\n",
       "    }\n",
       "</style>\n",
       "<table border=\"1\" class=\"dataframe\">\n",
       "  <thead>\n",
       "    <tr style=\"text-align: right;\">\n",
       "      <th></th>\n",
       "      <th>S.NO</th>\n",
       "      <th>SECTION</th>\n",
       "      <th>DV</th>\n",
       "      <th>M-II</th>\n",
       "      <th>PP</th>\n",
       "      <th>BEEE</th>\n",
       "      <th>FL</th>\n",
       "      <th>FIMS</th>\n",
       "    </tr>\n",
       "  </thead>\n",
       "  <tbody>\n",
       "  </tbody>\n",
       "</table>\n",
       "</div>"
      ],
      "text/plain": [
       "Empty DataFrame\n",
       "Columns: [S.NO, SECTION, DV, M-II, PP, BEEE, FL, FIMS]\n",
       "Index: []"
      ]
     },
     "execution_count": 3,
     "metadata": {},
     "output_type": "execute_result"
    }
   ],
   "source": [
    "df[df['DV'].isnull()]"
   ]
  },
  {
   "cell_type": "markdown",
   "id": "9a8bb6b2-d09b-438a-9d8b-4f07d9c65767",
   "metadata": {},
   "source": [
    "# Filtering rows where 'DV' subject column is null"
   ]
  },
  {
   "cell_type": "markdown",
   "id": "10444f99-7f0b-4b6c-8a0f-ad906a90284c",
   "metadata": {},
   "source": [
    "# Renaming column 'M-II' to 'M2' in dataframe"
   ]
  },
  {
   "cell_type": "code",
   "execution_count": 4,
   "id": "a71a07af-1bbe-4aac-8841-08fd09aaba2a",
   "metadata": {},
   "outputs": [
    {
     "data": {
      "text/html": [
       "<div>\n",
       "<style scoped>\n",
       "    .dataframe tbody tr th:only-of-type {\n",
       "        vertical-align: middle;\n",
       "    }\n",
       "\n",
       "    .dataframe tbody tr th {\n",
       "        vertical-align: top;\n",
       "    }\n",
       "\n",
       "    .dataframe thead th {\n",
       "        text-align: right;\n",
       "    }\n",
       "</style>\n",
       "<table border=\"1\" class=\"dataframe\">\n",
       "  <thead>\n",
       "    <tr style=\"text-align: right;\">\n",
       "      <th></th>\n",
       "      <th>S.NO</th>\n",
       "      <th>SECTION</th>\n",
       "      <th>DV</th>\n",
       "      <th>M-II</th>\n",
       "      <th>PP</th>\n",
       "      <th>BEEE</th>\n",
       "      <th>FL</th>\n",
       "      <th>FIMS</th>\n",
       "      <th>Total</th>\n",
       "    </tr>\n",
       "  </thead>\n",
       "  <tbody>\n",
       "    <tr>\n",
       "      <th>0</th>\n",
       "      <td>1.0</td>\n",
       "      <td>ALPHA</td>\n",
       "      <td>12.0</td>\n",
       "      <td>0.0</td>\n",
       "      <td>17.0</td>\n",
       "      <td>9.0</td>\n",
       "      <td>19.0</td>\n",
       "      <td>15.0</td>\n",
       "      <td>72.0</td>\n",
       "    </tr>\n",
       "    <tr>\n",
       "      <th>1</th>\n",
       "      <td>2.0</td>\n",
       "      <td>ALPHA</td>\n",
       "      <td>19.0</td>\n",
       "      <td>12.0</td>\n",
       "      <td>16.0</td>\n",
       "      <td>16.0</td>\n",
       "      <td>18.0</td>\n",
       "      <td>3.0</td>\n",
       "      <td>84.0</td>\n",
       "    </tr>\n",
       "    <tr>\n",
       "      <th>2</th>\n",
       "      <td>3.0</td>\n",
       "      <td>ALPHA</td>\n",
       "      <td>18.0</td>\n",
       "      <td>14.0</td>\n",
       "      <td>18.0</td>\n",
       "      <td>18.0</td>\n",
       "      <td>18.0</td>\n",
       "      <td>16.0</td>\n",
       "      <td>102.0</td>\n",
       "    </tr>\n",
       "    <tr>\n",
       "      <th>3</th>\n",
       "      <td>4.0</td>\n",
       "      <td>ALPHA</td>\n",
       "      <td>15.0</td>\n",
       "      <td>9.0</td>\n",
       "      <td>19.0</td>\n",
       "      <td>17.0</td>\n",
       "      <td>19.0</td>\n",
       "      <td>15.0</td>\n",
       "      <td>94.0</td>\n",
       "    </tr>\n",
       "    <tr>\n",
       "      <th>4</th>\n",
       "      <td>5.0</td>\n",
       "      <td>ALPHA</td>\n",
       "      <td>18.0</td>\n",
       "      <td>17.0</td>\n",
       "      <td>19.0</td>\n",
       "      <td>19.0</td>\n",
       "      <td>20.0</td>\n",
       "      <td>18.0</td>\n",
       "      <td>111.0</td>\n",
       "    </tr>\n",
       "    <tr>\n",
       "      <th>...</th>\n",
       "      <td>...</td>\n",
       "      <td>...</td>\n",
       "      <td>...</td>\n",
       "      <td>...</td>\n",
       "      <td>...</td>\n",
       "      <td>...</td>\n",
       "      <td>...</td>\n",
       "      <td>...</td>\n",
       "      <td>...</td>\n",
       "    </tr>\n",
       "    <tr>\n",
       "      <th>713</th>\n",
       "      <td>NaN</td>\n",
       "      <td>ZETA</td>\n",
       "      <td>19.0</td>\n",
       "      <td>8.0</td>\n",
       "      <td>8.0</td>\n",
       "      <td>19.0</td>\n",
       "      <td>17.0</td>\n",
       "      <td>18.0</td>\n",
       "      <td>89.0</td>\n",
       "    </tr>\n",
       "    <tr>\n",
       "      <th>714</th>\n",
       "      <td>NaN</td>\n",
       "      <td>ZETA</td>\n",
       "      <td>12.0</td>\n",
       "      <td>1.0</td>\n",
       "      <td>7.0</td>\n",
       "      <td>10.0</td>\n",
       "      <td>20.0</td>\n",
       "      <td>8.0</td>\n",
       "      <td>58.0</td>\n",
       "    </tr>\n",
       "    <tr>\n",
       "      <th>715</th>\n",
       "      <td>NaN</td>\n",
       "      <td>ZETA</td>\n",
       "      <td>17.0</td>\n",
       "      <td>6.0</td>\n",
       "      <td>14.0</td>\n",
       "      <td>14.0</td>\n",
       "      <td>17.0</td>\n",
       "      <td>18.0</td>\n",
       "      <td>86.0</td>\n",
       "    </tr>\n",
       "    <tr>\n",
       "      <th>716</th>\n",
       "      <td>NaN</td>\n",
       "      <td>ZETA</td>\n",
       "      <td>12.0</td>\n",
       "      <td>1.0</td>\n",
       "      <td>6.0</td>\n",
       "      <td>7.0</td>\n",
       "      <td>15.0</td>\n",
       "      <td>12.0</td>\n",
       "      <td>53.0</td>\n",
       "    </tr>\n",
       "    <tr>\n",
       "      <th>717</th>\n",
       "      <td>NaN</td>\n",
       "      <td>ZETA</td>\n",
       "      <td>19.0</td>\n",
       "      <td>14.0</td>\n",
       "      <td>17.0</td>\n",
       "      <td>16.0</td>\n",
       "      <td>20.0</td>\n",
       "      <td>19.0</td>\n",
       "      <td>105.0</td>\n",
       "    </tr>\n",
       "  </tbody>\n",
       "</table>\n",
       "<p>716 rows × 9 columns</p>\n",
       "</div>"
      ],
      "text/plain": [
       "     S.NO SECTION    DV  M-II    PP  BEEE    FL  FIMS  Total\n",
       "0     1.0   ALPHA  12.0   0.0  17.0   9.0  19.0  15.0   72.0\n",
       "1     2.0   ALPHA  19.0  12.0  16.0  16.0  18.0   3.0   84.0\n",
       "2     3.0   ALPHA  18.0  14.0  18.0  18.0  18.0  16.0  102.0\n",
       "3     4.0   ALPHA  15.0   9.0  19.0  17.0  19.0  15.0   94.0\n",
       "4     5.0   ALPHA  18.0  17.0  19.0  19.0  20.0  18.0  111.0\n",
       "..    ...     ...   ...   ...   ...   ...   ...   ...    ...\n",
       "713   NaN    ZETA  19.0   8.0   8.0  19.0  17.0  18.0   89.0\n",
       "714   NaN    ZETA  12.0   1.0   7.0  10.0  20.0   8.0   58.0\n",
       "715   NaN    ZETA  17.0   6.0  14.0  14.0  17.0  18.0   86.0\n",
       "716   NaN    ZETA  12.0   1.0   6.0   7.0  15.0  12.0   53.0\n",
       "717   NaN    ZETA  19.0  14.0  17.0  16.0  20.0  19.0  105.0\n",
       "\n",
       "[716 rows x 9 columns]"
      ]
     },
     "execution_count": 4,
     "metadata": {},
     "output_type": "execute_result"
    }
   ],
   "source": [
    "columns_to_convert = ['DV', 'M-II', 'PP', 'BEEE', 'FL', 'FIMS']\n",
    "for col in columns_to_convert:\n",
    " df[col] = pd.to_numeric(df[col], errors='coerce')\n",
    "\n",
    "df['Total'] = df['DV'] + df['M-II'] + df['PP'] + df['BEEE'] + df['FL'] + df['FIMS']\n",
    "df"
   ]
  },
  {
   "cell_type": "code",
   "execution_count": 5,
   "id": "9646fb50-b7d6-4ad3-a72d-3deb6f142a20",
   "metadata": {},
   "outputs": [],
   "source": [
    "df['S.NO'] = range(1, len(df) + 1)"
   ]
  },
  {
   "cell_type": "code",
   "execution_count": 6,
   "id": "057c28a0-224f-4554-b24d-881a57cfd738",
   "metadata": {},
   "outputs": [],
   "source": [
    "df['SECTION'] = df['SECTION'].fillna('SIGMA')"
   ]
  },
  {
   "cell_type": "code",
   "execution_count": 7,
   "id": "fa84e265-de87-411c-8d9c-335b9e21e6bd",
   "metadata": {},
   "outputs": [
    {
     "name": "stdout",
     "output_type": "stream",
     "text": [
      "<class 'pandas.core.frame.DataFrame'>\n",
      "Index: 716 entries, 0 to 717\n",
      "Data columns (total 9 columns):\n",
      " #   Column   Non-Null Count  Dtype  \n",
      "---  ------   --------------  -----  \n",
      " 0   S.NO     716 non-null    int64  \n",
      " 1   SECTION  716 non-null    object \n",
      " 2   DV       705 non-null    float64\n",
      " 3   M-II     704 non-null    float64\n",
      " 4   PP       701 non-null    float64\n",
      " 5   BEEE     697 non-null    float64\n",
      " 6   FL       702 non-null    float64\n",
      " 7   FIMS     694 non-null    float64\n",
      " 8   Total    682 non-null    float64\n",
      "dtypes: float64(7), int64(1), object(1)\n",
      "memory usage: 55.9+ KB\n"
     ]
    }
   ],
   "source": [
    "df.info()"
   ]
  },
  {
   "cell_type": "code",
   "execution_count": 8,
   "id": "ba154c0d-9f09-4f56-8447-f602833880ad",
   "metadata": {},
   "outputs": [],
   "source": [
    "df=df.fillna(0)"
   ]
  },
  {
   "cell_type": "code",
   "execution_count": 9,
   "id": "fb070cce-b40a-44e9-a518-2bdab441df26",
   "metadata": {},
   "outputs": [
    {
     "name": "stdout",
     "output_type": "stream",
     "text": [
      "     S.NO SECTION    DV  M-II    PP  BEEE    FL  FIMS  Total  PERCENTAGE\n",
      "0       1   ALPHA  12.0   0.0  17.0   9.0  19.0  15.0   72.0   60.000000\n",
      "1       2   ALPHA  19.0  12.0  16.0  16.0  18.0   3.0   84.0   70.000000\n",
      "2       3   ALPHA  18.0  14.0  18.0  18.0  18.0  16.0  102.0   85.000000\n",
      "3       4   ALPHA  15.0   9.0  19.0  17.0  19.0  15.0   94.0   78.333333\n",
      "4       5   ALPHA  18.0  17.0  19.0  19.0  20.0  18.0  111.0   92.500000\n",
      "..    ...     ...   ...   ...   ...   ...   ...   ...    ...         ...\n",
      "713   712    ZETA  19.0   8.0   8.0  19.0  17.0  18.0   89.0   74.166667\n",
      "714   713    ZETA  12.0   1.0   7.0  10.0  20.0   8.0   58.0   48.333333\n",
      "715   714    ZETA  17.0   6.0  14.0  14.0  17.0  18.0   86.0   71.666667\n",
      "716   715    ZETA  12.0   1.0   6.0   7.0  15.0  12.0   53.0   44.166667\n",
      "717   716    ZETA  19.0  14.0  17.0  16.0  20.0  19.0  105.0   87.500000\n",
      "\n",
      "[716 rows x 10 columns]\n"
     ]
    }
   ],
   "source": [
    "df['PERCENTAGE'] = (df['Total'] /120)*100\n",
    "print(df)"
   ]
  },
  {
   "cell_type": "markdown",
   "id": "96ee55d0-b907-4d18-8566-5aee053cdf46",
   "metadata": {},
   "source": [
    "# Calculating percentage based on 'Total' column values"
   ]
  },
  {
   "cell_type": "code",
   "execution_count": 10,
   "id": "b90e5e9d-ee5d-4d4e-b83f-97ca9cf9be27",
   "metadata": {},
   "outputs": [
    {
     "data": {
      "text/plain": [
       "0     12.0\n",
       "1     19.0\n",
       "2     18.0\n",
       "3     15.0\n",
       "4     18.0\n",
       "      ... \n",
       "85     3.0\n",
       "86    17.0\n",
       "87    13.0\n",
       "88     2.0\n",
       "89    10.0\n",
       "Name: DV, Length: 90, dtype: float64"
      ]
     },
     "execution_count": 10,
     "metadata": {},
     "output_type": "execute_result"
    }
   ],
   "source": [
    "df[df['SECTION'] == 'ALPHA']['DV']"
   ]
  },
  {
   "cell_type": "code",
   "execution_count": 11,
   "id": "07bc7970-ceae-4072-bdfd-c35d1851346d",
   "metadata": {},
   "outputs": [
    {
     "data": {
      "text/plain": [
       "90     17.0\n",
       "91     14.0\n",
       "92     11.0\n",
       "93     14.0\n",
       "94     12.0\n",
       "       ... \n",
       "175    14.0\n",
       "176     6.0\n",
       "177    12.0\n",
       "178    16.0\n",
       "179    15.0\n",
       "Name: DV, Length: 90, dtype: float64"
      ]
     },
     "execution_count": 11,
     "metadata": {},
     "output_type": "execute_result"
    }
   ],
   "source": [
    "df[df['SECTION'] == 'BETA']['DV']"
   ]
  },
  {
   "cell_type": "code",
   "execution_count": 12,
   "id": "df860472-a82d-41bb-81ec-0572d2cb7a4e",
   "metadata": {},
   "outputs": [
    {
     "data": {
      "text/plain": [
       "TtestResult(statistic=0.6207084248259586, pvalue=0.5355854399866022, df=178.0)"
      ]
     },
     "execution_count": 12,
     "metadata": {},
     "output_type": "execute_result"
    }
   ],
   "source": [
    "from scipy.stats import ttest_ind\n",
    "ttest_ind(df[df['SECTION'] == 'ALPHA']['DV'] , df[df['SECTION'] == 'BETA']['DV'])"
   ]
  },
  {
   "cell_type": "code",
   "execution_count": 13,
   "id": "c8f7b8ff-c305-4d92-af61-935833518ec9",
   "metadata": {},
   "outputs": [
    {
     "data": {
      "text/plain": [
       "TtestResult(statistic=0.6207084248259586, pvalue=0.5356400219163465, df=166.5388753745943)"
      ]
     },
     "execution_count": 13,
     "metadata": {},
     "output_type": "execute_result"
    }
   ],
   "source": [
    "ttest_ind(df[df['SECTION'] == 'ALPHA']['DV'] , df[df['SECTION'] == 'BETA']['DV'] , equal_var=False)"
   ]
  },
  {
   "cell_type": "code",
   "execution_count": 14,
   "id": "72c2ca95-814e-4f58-81f7-9f2fa23817cf",
   "metadata": {},
   "outputs": [
    {
     "data": {
      "text/plain": [
       "TtestResult(statistic=0.6677896583545824, pvalue=0.5059958752914141, df=89)"
      ]
     },
     "execution_count": 14,
     "metadata": {},
     "output_type": "execute_result"
    }
   ],
   "source": [
    "from scipy.stats import ttest_rel\n",
    "ttest_rel(df[df['SECTION'] == 'ALPHA']['DV'] , df[df['SECTION'] == 'BETA']['DV'])"
   ]
  },
  {
   "cell_type": "code",
   "execution_count": 15,
   "id": "c444411b-5f29-4a2c-b981-8ee790627935",
   "metadata": {},
   "outputs": [
    {
     "data": {
      "text/plain": [
       "14.787709497206704"
      ]
     },
     "execution_count": 15,
     "metadata": {},
     "output_type": "execute_result"
    }
   ],
   "source": [
    "df.DV.mean()"
   ]
  },
  {
   "cell_type": "code",
   "execution_count": 48,
   "id": "e8044373-d413-4914-8879-c30d6340c909",
   "metadata": {},
   "outputs": [
    {
     "data": {
      "text/plain": [
       "TtestResult(statistic=0.6207084248259586, pvalue=0.5355854399866022, df=178.0)"
      ]
     },
     "execution_count": 48,
     "metadata": {},
     "output_type": "execute_result"
    }
   ],
   "source": [
    "ttest_ind(df[df['SECTION'] == 'ALPHA']['DV'] , df[df['SECTION'] == 'BETA']['DV'])\n"
   ]
  },
  {
   "cell_type": "code",
   "execution_count": 49,
   "id": "ed7d8cfe-13bf-4c68-91f7-3b39c5515289",
   "metadata": {},
   "outputs": [
    {
     "data": {
      "text/plain": [
       "TtestResult(statistic=-0.6553774955607539, pvalue=0.5130708533507982, df=178.0)"
      ]
     },
     "execution_count": 49,
     "metadata": {},
     "output_type": "execute_result"
    }
   ],
   "source": [
    "ttest_ind(df[df['SECTION'] == 'ALPHA']['DV'] , df[df['SECTION'] == 'DELTA']['DV'])"
   ]
  },
  {
   "cell_type": "code",
   "execution_count": 62,
   "id": "56e60b92-8504-45cf-b117-3f3b68a84a5f",
   "metadata": {},
   "outputs": [
    {
     "name": "stdout",
     "output_type": "stream",
     "text": [
      "2.881042866488959 0.004990510123188154\n"
     ]
    },
    {
     "name": "stderr",
     "output_type": "stream",
     "text": [
      "C:\\Users\\Naren\\AppData\\Local\\Temp\\ipykernel_18188\\4077781952.py:2: DeprecationWarning: Please import `ttest_1samp` from the `scipy.stats` namespace; the `scipy.stats.stats` namespace is deprecated and will be removed in SciPy 2.0.0.\n",
      "  t_statistic,p_value=stats.ttest_1samp(df[df['SECTION']=='SIGMA']['DV'],df.DV.mean())\n"
     ]
    }
   ],
   "source": [
    "from scipy.stats import stats\n",
    "t_statistic,p_value=stats.ttest_1samp(df[df['SECTION']=='SIGMA']['DV'],df.DV.mean())\n",
    "print(t_statistic,p_value)"
   ]
  },
  {
   "cell_type": "code",
   "execution_count": 71,
   "id": "a51d08f9-1bc9-41cc-812e-cd2248cb4c2f",
   "metadata": {},
   "outputs": [],
   "source": [
    "from scipy.stats import stats"
   ]
  },
  {
   "cell_type": "code",
   "execution_count": 72,
   "id": "cbb75675-7005-482e-a05a-eac2b2cb8423",
   "metadata": {},
   "outputs": [
    {
     "name": "stdout",
     "output_type": "stream",
     "text": [
      "-2.616154646179782 0.010446384280899498\n"
     ]
    },
    {
     "name": "stderr",
     "output_type": "stream",
     "text": [
      "C:\\Users\\Naren\\AppData\\Local\\Temp\\ipykernel_18188\\1164518312.py:1: DeprecationWarning: Please import `ttest_1samp` from the `scipy.stats` namespace; the `scipy.stats.stats` namespace is deprecated and will be removed in SciPy 2.0.0.\n",
      "  t_statistic,p_value=stats.ttest_1samp(df[df['SECTION']=='ALPHA']['DV'],df.DV.mean())\n"
     ]
    }
   ],
   "source": [
    "t_statistic,p_value=stats.ttest_1samp(df[df['SECTION']=='ALPHA']['DV'],df.DV.mean())\n",
    "print(t_statistic,p_value)"
   ]
  },
  {
   "cell_type": "code",
   "execution_count": 73,
   "id": "11981945-7655-44ed-93be-d6e6895ab864",
   "metadata": {},
   "outputs": [
    {
     "name": "stdout",
     "output_type": "stream",
     "text": [
      "-4.444375088320685 2.5314931787997426e-05\n"
     ]
    },
    {
     "name": "stderr",
     "output_type": "stream",
     "text": [
      "C:\\Users\\Naren\\AppData\\Local\\Temp\\ipykernel_18188\\1428391005.py:1: DeprecationWarning: Please import `ttest_1samp` from the `scipy.stats` namespace; the `scipy.stats.stats` namespace is deprecated and will be removed in SciPy 2.0.0.\n",
      "  t_statistic,p_value=stats.ttest_1samp(df[df['SECTION']=='BETA']['DV'],df.DV.mean())\n"
     ]
    }
   ],
   "source": [
    "t_statistic,p_value=stats.ttest_1samp(df[df['SECTION']=='BETA']['DV'],df.DV.mean())\n",
    "print(t_statistic,p_value)"
   ]
  },
  {
   "cell_type": "code",
   "execution_count": 74,
   "id": "6a5afcf5-6b43-4a9e-a359-1e664e68092b",
   "metadata": {},
   "outputs": [
    {
     "name": "stdout",
     "output_type": "stream",
     "text": [
      "0.044413529739783554 0.9646742748333578\n"
     ]
    },
    {
     "name": "stderr",
     "output_type": "stream",
     "text": [
      "C:\\Users\\Naren\\AppData\\Local\\Temp\\ipykernel_18188\\1577313677.py:1: DeprecationWarning: Please import `ttest_1samp` from the `scipy.stats` namespace; the `scipy.stats.stats` namespace is deprecated and will be removed in SciPy 2.0.0.\n",
      "  t_statistic,p_value=stats.ttest_1samp(df[df['SECTION']=='GAMMA']['DV'],df.DV.mean())\n"
     ]
    }
   ],
   "source": [
    "t_statistic,p_value=stats.ttest_1samp(df[df['SECTION']=='GAMMA']['DV'],df.DV.mean())\n",
    "print(t_statistic,p_value)"
   ]
  },
  {
   "cell_type": "code",
   "execution_count": 75,
   "id": "f9438b97-22ba-43cb-abc1-9b394b44b22b",
   "metadata": {},
   "outputs": [
    {
     "name": "stdout",
     "output_type": "stream",
     "text": [
      "-2.027862439583779 0.04556465252959875\n"
     ]
    },
    {
     "name": "stderr",
     "output_type": "stream",
     "text": [
      "C:\\Users\\Naren\\AppData\\Local\\Temp\\ipykernel_18188\\825041322.py:1: DeprecationWarning: Please import `ttest_1samp` from the `scipy.stats` namespace; the `scipy.stats.stats` namespace is deprecated and will be removed in SciPy 2.0.0.\n",
      "  t_statistic,p_value=stats.ttest_1samp(df[df['SECTION']=='DELTA']['DV'],df.DV.mean())\n"
     ]
    }
   ],
   "source": [
    "t_statistic,p_value=stats.ttest_1samp(df[df['SECTION']=='DELTA']['DV'],df.DV.mean())\n",
    "print(t_statistic,p_value)"
   ]
  },
  {
   "cell_type": "code",
   "execution_count": 76,
   "id": "65ba28a4-033c-439e-8162-b0288a5176d7",
   "metadata": {},
   "outputs": [
    {
     "name": "stdout",
     "output_type": "stream",
     "text": [
      "2.881042866488959 0.004990510123188154\n"
     ]
    },
    {
     "name": "stderr",
     "output_type": "stream",
     "text": [
      "C:\\Users\\Naren\\AppData\\Local\\Temp\\ipykernel_18188\\3939717943.py:1: DeprecationWarning: Please import `ttest_1samp` from the `scipy.stats` namespace; the `scipy.stats.stats` namespace is deprecated and will be removed in SciPy 2.0.0.\n",
      "  t_statistic,p_value=stats.ttest_1samp(df[df['SECTION']=='SIGMA']['DV'],df.DV.mean())\n"
     ]
    }
   ],
   "source": [
    "t_statistic,p_value=stats.ttest_1samp(df[df['SECTION']=='SIGMA']['DV'],df.DV.mean())\n",
    "print(t_statistic,p_value)"
   ]
  },
  {
   "cell_type": "code",
   "execution_count": 77,
   "id": "5b65b151-73a1-4ca1-8a5a-772400625120",
   "metadata": {},
   "outputs": [
    {
     "name": "stdout",
     "output_type": "stream",
     "text": [
      "3.2903789429100354 0.0014349291303171465\n"
     ]
    },
    {
     "name": "stderr",
     "output_type": "stream",
     "text": [
      "C:\\Users\\Naren\\AppData\\Local\\Temp\\ipykernel_18188\\2977294326.py:1: DeprecationWarning: Please import `ttest_1samp` from the `scipy.stats` namespace; the `scipy.stats.stats` namespace is deprecated and will be removed in SciPy 2.0.0.\n",
      "  t_statistic,p_value=stats.ttest_1samp(df[df['SECTION']=='OMEGA']['DV'],df.DV.mean())\n"
     ]
    }
   ],
   "source": [
    "t_statistic,p_value=stats.ttest_1samp(df[df['SECTION']=='OMEGA']['DV'],df.DV.mean())\n",
    "print(t_statistic,p_value)"
   ]
  },
  {
   "cell_type": "code",
   "execution_count": 78,
   "id": "1129c6fd-7ad7-49f6-9657-f01b6504aefc",
   "metadata": {},
   "outputs": [
    {
     "name": "stdout",
     "output_type": "stream",
     "text": [
      "1.145074331917612 0.25524830899967893\n"
     ]
    },
    {
     "name": "stderr",
     "output_type": "stream",
     "text": [
      "C:\\Users\\Naren\\AppData\\Local\\Temp\\ipykernel_18188\\3614205482.py:1: DeprecationWarning: Please import `ttest_1samp` from the `scipy.stats` namespace; the `scipy.stats.stats` namespace is deprecated and will be removed in SciPy 2.0.0.\n",
      "  t_statistic,p_value=stats.ttest_1samp(df[df['SECTION']=='ZETA']['DV'],df.DV.mean())\n"
     ]
    }
   ],
   "source": [
    "t_statistic,p_value=stats.ttest_1samp(df[df['SECTION']=='ZETA']['DV'],df.DV.mean())\n",
    "print(t_statistic,p_value)"
   ]
  },
  {
   "cell_type": "code",
   "execution_count": 79,
   "id": "044da835-103a-4b40-a6e5-b11f6d9d6b26",
   "metadata": {},
   "outputs": [
    {
     "name": "stdout",
     "output_type": "stream",
     "text": [
      "1.218862767982525 0.22619090688375254\n"
     ]
    },
    {
     "name": "stderr",
     "output_type": "stream",
     "text": [
      "C:\\Users\\Naren\\AppData\\Local\\Temp\\ipykernel_18188\\969866371.py:1: DeprecationWarning: Please import `ttest_1samp` from the `scipy.stats` namespace; the `scipy.stats.stats` namespace is deprecated and will be removed in SciPy 2.0.0.\n",
      "  t_statistic,p_value=stats.ttest_1samp(df[df['SECTION']=='EPSILON']['DV'],df.DV.mean())\n"
     ]
    }
   ],
   "source": [
    "t_statistic,p_value=stats.ttest_1samp(df[df['SECTION']=='EPSILON']['DV'],df.DV.mean())\n",
    "print(t_statistic,p_value)"
   ]
  },
  {
   "cell_type": "code",
   "execution_count": 80,
   "id": "32bd7433-81ff-4641-93c4-d03cc156c6ea",
   "metadata": {},
   "outputs": [
    {
     "data": {
      "text/plain": [
       "TtestResult(statistic=-0.6919067946130043, pvalue=0.4907970084314781, df=89)"
      ]
     },
     "execution_count": 80,
     "metadata": {},
     "output_type": "execute_result"
    }
   ],
   "source": [
    "ttest_rel(df[df['SECTION'] == 'ALPHA']['DV'] , df[df['SECTION'] == 'DELTA']['DV'])"
   ]
  },
  {
   "cell_type": "code",
   "execution_count": 81,
   "id": "015369c1-975d-4707-bcaf-36e4cd6f4d1c",
   "metadata": {},
   "outputs": [
    {
     "data": {
      "text/plain": [
       "TtestResult(statistic=-1.769224101059647, pvalue=0.08028203231580917, df=89)"
      ]
     },
     "execution_count": 81,
     "metadata": {},
     "output_type": "execute_result"
    }
   ],
   "source": [
    "ttest_rel(df[df['SECTION'] == 'ALPHA']['DV'] , df[df['SECTION'] == 'GAMMA']['DV'])"
   ]
  },
  {
   "cell_type": "code",
   "execution_count": 16,
   "id": "12032f91-ad7e-4fe7-bc22-a4dff08e9899",
   "metadata": {},
   "outputs": [
    {
     "data": {
      "text/html": [
       "<div>\n",
       "<style scoped>\n",
       "    .dataframe tbody tr th:only-of-type {\n",
       "        vertical-align: middle;\n",
       "    }\n",
       "\n",
       "    .dataframe tbody tr th {\n",
       "        vertical-align: top;\n",
       "    }\n",
       "\n",
       "    .dataframe thead th {\n",
       "        text-align: right;\n",
       "    }\n",
       "</style>\n",
       "<table border=\"1\" class=\"dataframe\">\n",
       "  <thead>\n",
       "    <tr style=\"text-align: right;\">\n",
       "      <th></th>\n",
       "      <th>S.NO</th>\n",
       "      <th>SECTION</th>\n",
       "      <th>DV</th>\n",
       "      <th>M-II</th>\n",
       "      <th>PP</th>\n",
       "      <th>BEEE</th>\n",
       "      <th>FL</th>\n",
       "      <th>FIMS</th>\n",
       "      <th>Total</th>\n",
       "      <th>PERCENTAGE</th>\n",
       "      <th>GRADE</th>\n",
       "    </tr>\n",
       "  </thead>\n",
       "  <tbody>\n",
       "    <tr>\n",
       "      <th>0</th>\n",
       "      <td>1</td>\n",
       "      <td>ALPHA</td>\n",
       "      <td>12.0</td>\n",
       "      <td>0.0</td>\n",
       "      <td>17.0</td>\n",
       "      <td>9.0</td>\n",
       "      <td>19.0</td>\n",
       "      <td>15.0</td>\n",
       "      <td>72.0</td>\n",
       "      <td>60.000000</td>\n",
       "      <td>D</td>\n",
       "    </tr>\n",
       "    <tr>\n",
       "      <th>1</th>\n",
       "      <td>2</td>\n",
       "      <td>ALPHA</td>\n",
       "      <td>19.0</td>\n",
       "      <td>12.0</td>\n",
       "      <td>16.0</td>\n",
       "      <td>16.0</td>\n",
       "      <td>18.0</td>\n",
       "      <td>3.0</td>\n",
       "      <td>84.0</td>\n",
       "      <td>70.000000</td>\n",
       "      <td>C</td>\n",
       "    </tr>\n",
       "    <tr>\n",
       "      <th>2</th>\n",
       "      <td>3</td>\n",
       "      <td>ALPHA</td>\n",
       "      <td>18.0</td>\n",
       "      <td>14.0</td>\n",
       "      <td>18.0</td>\n",
       "      <td>18.0</td>\n",
       "      <td>18.0</td>\n",
       "      <td>16.0</td>\n",
       "      <td>102.0</td>\n",
       "      <td>85.000000</td>\n",
       "      <td>B</td>\n",
       "    </tr>\n",
       "    <tr>\n",
       "      <th>3</th>\n",
       "      <td>4</td>\n",
       "      <td>ALPHA</td>\n",
       "      <td>15.0</td>\n",
       "      <td>9.0</td>\n",
       "      <td>19.0</td>\n",
       "      <td>17.0</td>\n",
       "      <td>19.0</td>\n",
       "      <td>15.0</td>\n",
       "      <td>94.0</td>\n",
       "      <td>78.333333</td>\n",
       "      <td>C</td>\n",
       "    </tr>\n",
       "    <tr>\n",
       "      <th>4</th>\n",
       "      <td>5</td>\n",
       "      <td>ALPHA</td>\n",
       "      <td>18.0</td>\n",
       "      <td>17.0</td>\n",
       "      <td>19.0</td>\n",
       "      <td>19.0</td>\n",
       "      <td>20.0</td>\n",
       "      <td>18.0</td>\n",
       "      <td>111.0</td>\n",
       "      <td>92.500000</td>\n",
       "      <td>A</td>\n",
       "    </tr>\n",
       "    <tr>\n",
       "      <th>...</th>\n",
       "      <td>...</td>\n",
       "      <td>...</td>\n",
       "      <td>...</td>\n",
       "      <td>...</td>\n",
       "      <td>...</td>\n",
       "      <td>...</td>\n",
       "      <td>...</td>\n",
       "      <td>...</td>\n",
       "      <td>...</td>\n",
       "      <td>...</td>\n",
       "      <td>...</td>\n",
       "    </tr>\n",
       "    <tr>\n",
       "      <th>713</th>\n",
       "      <td>712</td>\n",
       "      <td>ZETA</td>\n",
       "      <td>19.0</td>\n",
       "      <td>8.0</td>\n",
       "      <td>8.0</td>\n",
       "      <td>19.0</td>\n",
       "      <td>17.0</td>\n",
       "      <td>18.0</td>\n",
       "      <td>89.0</td>\n",
       "      <td>74.166667</td>\n",
       "      <td>C</td>\n",
       "    </tr>\n",
       "    <tr>\n",
       "      <th>714</th>\n",
       "      <td>713</td>\n",
       "      <td>ZETA</td>\n",
       "      <td>12.0</td>\n",
       "      <td>1.0</td>\n",
       "      <td>7.0</td>\n",
       "      <td>10.0</td>\n",
       "      <td>20.0</td>\n",
       "      <td>8.0</td>\n",
       "      <td>58.0</td>\n",
       "      <td>48.333333</td>\n",
       "      <td>F</td>\n",
       "    </tr>\n",
       "    <tr>\n",
       "      <th>715</th>\n",
       "      <td>714</td>\n",
       "      <td>ZETA</td>\n",
       "      <td>17.0</td>\n",
       "      <td>6.0</td>\n",
       "      <td>14.0</td>\n",
       "      <td>14.0</td>\n",
       "      <td>17.0</td>\n",
       "      <td>18.0</td>\n",
       "      <td>86.0</td>\n",
       "      <td>71.666667</td>\n",
       "      <td>C</td>\n",
       "    </tr>\n",
       "    <tr>\n",
       "      <th>716</th>\n",
       "      <td>715</td>\n",
       "      <td>ZETA</td>\n",
       "      <td>12.0</td>\n",
       "      <td>1.0</td>\n",
       "      <td>6.0</td>\n",
       "      <td>7.0</td>\n",
       "      <td>15.0</td>\n",
       "      <td>12.0</td>\n",
       "      <td>53.0</td>\n",
       "      <td>44.166667</td>\n",
       "      <td>F</td>\n",
       "    </tr>\n",
       "    <tr>\n",
       "      <th>717</th>\n",
       "      <td>716</td>\n",
       "      <td>ZETA</td>\n",
       "      <td>19.0</td>\n",
       "      <td>14.0</td>\n",
       "      <td>17.0</td>\n",
       "      <td>16.0</td>\n",
       "      <td>20.0</td>\n",
       "      <td>19.0</td>\n",
       "      <td>105.0</td>\n",
       "      <td>87.500000</td>\n",
       "      <td>B</td>\n",
       "    </tr>\n",
       "  </tbody>\n",
       "</table>\n",
       "<p>716 rows × 11 columns</p>\n",
       "</div>"
      ],
      "text/plain": [
       "     S.NO SECTION    DV  M-II    PP  BEEE    FL  FIMS  Total  PERCENTAGE GRADE\n",
       "0       1   ALPHA  12.0   0.0  17.0   9.0  19.0  15.0   72.0   60.000000     D\n",
       "1       2   ALPHA  19.0  12.0  16.0  16.0  18.0   3.0   84.0   70.000000     C\n",
       "2       3   ALPHA  18.0  14.0  18.0  18.0  18.0  16.0  102.0   85.000000     B\n",
       "3       4   ALPHA  15.0   9.0  19.0  17.0  19.0  15.0   94.0   78.333333     C\n",
       "4       5   ALPHA  18.0  17.0  19.0  19.0  20.0  18.0  111.0   92.500000     A\n",
       "..    ...     ...   ...   ...   ...   ...   ...   ...    ...         ...   ...\n",
       "713   712    ZETA  19.0   8.0   8.0  19.0  17.0  18.0   89.0   74.166667     C\n",
       "714   713    ZETA  12.0   1.0   7.0  10.0  20.0   8.0   58.0   48.333333     F\n",
       "715   714    ZETA  17.0   6.0  14.0  14.0  17.0  18.0   86.0   71.666667     C\n",
       "716   715    ZETA  12.0   1.0   6.0   7.0  15.0  12.0   53.0   44.166667     F\n",
       "717   716    ZETA  19.0  14.0  17.0  16.0  20.0  19.0  105.0   87.500000     B\n",
       "\n",
       "[716 rows x 11 columns]"
      ]
     },
     "execution_count": 16,
     "metadata": {},
     "output_type": "execute_result"
    }
   ],
   "source": [
    "def assign_grade(percentage):\n",
    "    if percentage >= 90:\n",
    "        return 'A'\n",
    "    elif percentage >= 80:\n",
    "        return 'B'\n",
    "    elif percentage >= 70:\n",
    "        return 'C'\n",
    "    elif percentage >= 60:\n",
    "        return 'D'\n",
    "    else:\n",
    "        return 'F'\n",
    "df['GRADE'] = df['PERCENTAGE'].apply(assign_grade)\n",
    "df"
   ]
  },
  {
   "cell_type": "markdown",
   "id": "f89a563e-0745-45c7-933d-003edc6b7d04",
   "metadata": {},
   "source": [
    "# Assigning grades based on percentage values in dataframe"
   ]
  },
  {
   "cell_type": "code",
   "execution_count": 17,
   "id": "7af7b423-ed42-41c1-bd97-f18a0d2a0b53",
   "metadata": {
    "scrolled": true
   },
   "outputs": [
    {
     "data": {
      "text/html": [
       "<div>\n",
       "<style scoped>\n",
       "    .dataframe tbody tr th:only-of-type {\n",
       "        vertical-align: middle;\n",
       "    }\n",
       "\n",
       "    .dataframe tbody tr th {\n",
       "        vertical-align: top;\n",
       "    }\n",
       "\n",
       "    .dataframe thead th {\n",
       "        text-align: right;\n",
       "    }\n",
       "</style>\n",
       "<table border=\"1\" class=\"dataframe\">\n",
       "  <thead>\n",
       "    <tr style=\"text-align: right;\">\n",
       "      <th></th>\n",
       "      <th>S.NO</th>\n",
       "      <th>SECTION</th>\n",
       "      <th>DV</th>\n",
       "      <th>M-II</th>\n",
       "      <th>PP</th>\n",
       "      <th>BEEE</th>\n",
       "      <th>FL</th>\n",
       "      <th>FIMS</th>\n",
       "      <th>Total</th>\n",
       "      <th>PERCENTAGE</th>\n",
       "      <th>GRADE</th>\n",
       "      <th>DV-skills</th>\n",
       "    </tr>\n",
       "  </thead>\n",
       "  <tbody>\n",
       "    <tr>\n",
       "      <th>0</th>\n",
       "      <td>1</td>\n",
       "      <td>ALPHA</td>\n",
       "      <td>12.0</td>\n",
       "      <td>0.0</td>\n",
       "      <td>17.0</td>\n",
       "      <td>9.0</td>\n",
       "      <td>19.0</td>\n",
       "      <td>15.0</td>\n",
       "      <td>72.0</td>\n",
       "      <td>60.000000</td>\n",
       "      <td>D</td>\n",
       "      <td>poor</td>\n",
       "    </tr>\n",
       "    <tr>\n",
       "      <th>1</th>\n",
       "      <td>2</td>\n",
       "      <td>ALPHA</td>\n",
       "      <td>19.0</td>\n",
       "      <td>12.0</td>\n",
       "      <td>16.0</td>\n",
       "      <td>16.0</td>\n",
       "      <td>18.0</td>\n",
       "      <td>3.0</td>\n",
       "      <td>84.0</td>\n",
       "      <td>70.000000</td>\n",
       "      <td>C</td>\n",
       "      <td>very good</td>\n",
       "    </tr>\n",
       "    <tr>\n",
       "      <th>2</th>\n",
       "      <td>3</td>\n",
       "      <td>ALPHA</td>\n",
       "      <td>18.0</td>\n",
       "      <td>14.0</td>\n",
       "      <td>18.0</td>\n",
       "      <td>18.0</td>\n",
       "      <td>18.0</td>\n",
       "      <td>16.0</td>\n",
       "      <td>102.0</td>\n",
       "      <td>85.000000</td>\n",
       "      <td>B</td>\n",
       "      <td>very good</td>\n",
       "    </tr>\n",
       "    <tr>\n",
       "      <th>3</th>\n",
       "      <td>4</td>\n",
       "      <td>ALPHA</td>\n",
       "      <td>15.0</td>\n",
       "      <td>9.0</td>\n",
       "      <td>19.0</td>\n",
       "      <td>17.0</td>\n",
       "      <td>19.0</td>\n",
       "      <td>15.0</td>\n",
       "      <td>94.0</td>\n",
       "      <td>78.333333</td>\n",
       "      <td>C</td>\n",
       "      <td>good</td>\n",
       "    </tr>\n",
       "    <tr>\n",
       "      <th>4</th>\n",
       "      <td>5</td>\n",
       "      <td>ALPHA</td>\n",
       "      <td>18.0</td>\n",
       "      <td>17.0</td>\n",
       "      <td>19.0</td>\n",
       "      <td>19.0</td>\n",
       "      <td>20.0</td>\n",
       "      <td>18.0</td>\n",
       "      <td>111.0</td>\n",
       "      <td>92.500000</td>\n",
       "      <td>A</td>\n",
       "      <td>very good</td>\n",
       "    </tr>\n",
       "    <tr>\n",
       "      <th>...</th>\n",
       "      <td>...</td>\n",
       "      <td>...</td>\n",
       "      <td>...</td>\n",
       "      <td>...</td>\n",
       "      <td>...</td>\n",
       "      <td>...</td>\n",
       "      <td>...</td>\n",
       "      <td>...</td>\n",
       "      <td>...</td>\n",
       "      <td>...</td>\n",
       "      <td>...</td>\n",
       "      <td>...</td>\n",
       "    </tr>\n",
       "    <tr>\n",
       "      <th>713</th>\n",
       "      <td>712</td>\n",
       "      <td>ZETA</td>\n",
       "      <td>19.0</td>\n",
       "      <td>8.0</td>\n",
       "      <td>8.0</td>\n",
       "      <td>19.0</td>\n",
       "      <td>17.0</td>\n",
       "      <td>18.0</td>\n",
       "      <td>89.0</td>\n",
       "      <td>74.166667</td>\n",
       "      <td>C</td>\n",
       "      <td>very good</td>\n",
       "    </tr>\n",
       "    <tr>\n",
       "      <th>714</th>\n",
       "      <td>713</td>\n",
       "      <td>ZETA</td>\n",
       "      <td>12.0</td>\n",
       "      <td>1.0</td>\n",
       "      <td>7.0</td>\n",
       "      <td>10.0</td>\n",
       "      <td>20.0</td>\n",
       "      <td>8.0</td>\n",
       "      <td>58.0</td>\n",
       "      <td>48.333333</td>\n",
       "      <td>F</td>\n",
       "      <td>poor</td>\n",
       "    </tr>\n",
       "    <tr>\n",
       "      <th>715</th>\n",
       "      <td>714</td>\n",
       "      <td>ZETA</td>\n",
       "      <td>17.0</td>\n",
       "      <td>6.0</td>\n",
       "      <td>14.0</td>\n",
       "      <td>14.0</td>\n",
       "      <td>17.0</td>\n",
       "      <td>18.0</td>\n",
       "      <td>86.0</td>\n",
       "      <td>71.666667</td>\n",
       "      <td>C</td>\n",
       "      <td>good</td>\n",
       "    </tr>\n",
       "    <tr>\n",
       "      <th>716</th>\n",
       "      <td>715</td>\n",
       "      <td>ZETA</td>\n",
       "      <td>12.0</td>\n",
       "      <td>1.0</td>\n",
       "      <td>6.0</td>\n",
       "      <td>7.0</td>\n",
       "      <td>15.0</td>\n",
       "      <td>12.0</td>\n",
       "      <td>53.0</td>\n",
       "      <td>44.166667</td>\n",
       "      <td>F</td>\n",
       "      <td>poor</td>\n",
       "    </tr>\n",
       "    <tr>\n",
       "      <th>717</th>\n",
       "      <td>716</td>\n",
       "      <td>ZETA</td>\n",
       "      <td>19.0</td>\n",
       "      <td>14.0</td>\n",
       "      <td>17.0</td>\n",
       "      <td>16.0</td>\n",
       "      <td>20.0</td>\n",
       "      <td>19.0</td>\n",
       "      <td>105.0</td>\n",
       "      <td>87.500000</td>\n",
       "      <td>B</td>\n",
       "      <td>very good</td>\n",
       "    </tr>\n",
       "  </tbody>\n",
       "</table>\n",
       "<p>716 rows × 12 columns</p>\n",
       "</div>"
      ],
      "text/plain": [
       "     S.NO SECTION    DV  M-II    PP  BEEE    FL  FIMS  Total  PERCENTAGE  \\\n",
       "0       1   ALPHA  12.0   0.0  17.0   9.0  19.0  15.0   72.0   60.000000   \n",
       "1       2   ALPHA  19.0  12.0  16.0  16.0  18.0   3.0   84.0   70.000000   \n",
       "2       3   ALPHA  18.0  14.0  18.0  18.0  18.0  16.0  102.0   85.000000   \n",
       "3       4   ALPHA  15.0   9.0  19.0  17.0  19.0  15.0   94.0   78.333333   \n",
       "4       5   ALPHA  18.0  17.0  19.0  19.0  20.0  18.0  111.0   92.500000   \n",
       "..    ...     ...   ...   ...   ...   ...   ...   ...    ...         ...   \n",
       "713   712    ZETA  19.0   8.0   8.0  19.0  17.0  18.0   89.0   74.166667   \n",
       "714   713    ZETA  12.0   1.0   7.0  10.0  20.0   8.0   58.0   48.333333   \n",
       "715   714    ZETA  17.0   6.0  14.0  14.0  17.0  18.0   86.0   71.666667   \n",
       "716   715    ZETA  12.0   1.0   6.0   7.0  15.0  12.0   53.0   44.166667   \n",
       "717   716    ZETA  19.0  14.0  17.0  16.0  20.0  19.0  105.0   87.500000   \n",
       "\n",
       "    GRADE  DV-skills  \n",
       "0       D       poor  \n",
       "1       C  very good  \n",
       "2       B  very good  \n",
       "3       C       good  \n",
       "4       A  very good  \n",
       "..    ...        ...  \n",
       "713     C  very good  \n",
       "714     F       poor  \n",
       "715     C       good  \n",
       "716     F       poor  \n",
       "717     B  very good  \n",
       "\n",
       "[716 rows x 12 columns]"
      ]
     },
     "execution_count": 17,
     "metadata": {},
     "output_type": "execute_result"
    }
   ],
   "source": [
    "def assign_skills(DV):\n",
    "    if DV >=18 :\n",
    "        return \"very good\"\n",
    "        \n",
    "    elif DV >=15 :\n",
    "        return 'good'\n",
    "    elif DV >= 13:\n",
    "        return 'average'\n",
    "    else:\n",
    "        return 'poor'\n",
    "df['DV-skills'] = df['DV'].apply(assign_skills)\n",
    "df"
   ]
  },
  {
   "cell_type": "code",
   "execution_count": 18,
   "id": "752d3457-6897-446f-9f65-8065a7d8f29c",
   "metadata": {},
   "outputs": [
    {
     "name": "stderr",
     "output_type": "stream",
     "text": [
      "C:\\Users\\Naren\\AppData\\Local\\Temp\\ipykernel_18188\\682902871.py:4: FutureWarning: \n",
      "\n",
      "Passing `palette` without assigning `hue` is deprecated and will be removed in v0.14.0. Assign the `x` variable to `hue` and set `legend=False` for the same effect.\n",
      "\n",
      "  sns.countplot(x=\"DV-skills\", data=df, palette=\"viridis\")\n"
     ]
    },
    {
     "data": {
      "image/png": "[encoded data removed]",
      "text/plain": [
       "<Figure size 800x600 with 1 Axes>"
      ]
     },
     "metadata": {},
     "output_type": "display_data"
    }
   ],
   "source": [
    "import seaborn as sns\n",
    "import matplotlib.pyplot as plt\n",
    "plt.figure(figsize=(8, 6))\n",
    "sns.countplot(x=\"DV-skills\", data=df, palette=\"viridis\")\n",
    "plt.title(\"Frequency of DV-Skills Levels\")\n",
    "plt.xlabel(\"DV-Skills\")\n",
    "plt.ylabel(\"Count\")\n",
    "plt.show()\n"
   ]
  },
  {
   "cell_type": "code",
   "execution_count": 19,
   "id": "dd6b3a31-6df5-4cb6-b06a-153edf765512",
   "metadata": {},
   "outputs": [
    {
     "name": "stderr",
     "output_type": "stream",
     "text": [
      "C:\\Users\\Naren\\AppData\\Local\\Temp\\ipykernel_18188\\2141699028.py:2: FutureWarning: \n",
      "\n",
      "Passing `palette` without assigning `hue` is deprecated and will be removed in v0.14.0. Assign the `x` variable to `hue` and set `legend=False` for the same effect.\n",
      "\n",
      "  sns.boxplot(x=\"DV-skills\", y=\"Total\", data=df, palette=\"coolwarm\")\n"
     ]
    },
    {
     "data": {
      "image/png": "[encoded data removed]",
      "text/plain": [
       "<Figure size 800x600 with 1 Axes>"
      ]
     },
     "metadata": {},
     "output_type": "display_data"
    }
   ],
   "source": [
    "plt.figure(figsize=(8, 6))\n",
    "sns.boxplot(x=\"DV-skills\", y=\"Total\", data=df, palette=\"coolwarm\")\n",
    "plt.title(\"Distribution of Total Scores by DV-Skills\")\n",
    "plt.xlabel(\"DV-Skills\")\n",
    "plt.ylabel(\"Total Score\")\n",
    "plt.show()"
   ]
  },
  {
   "cell_type": "code",
   "execution_count": 20,
   "id": "e09d9d5a-71ae-49be-a7a3-b41103cda6ab",
   "metadata": {},
   "outputs": [
    {
     "data": {
      "image/png": "[encoded data removed]",
      "text/plain": [
       "<Figure size 800x800 with 1 Axes>"
      ]
     },
     "metadata": {},
     "output_type": "display_data"
    }
   ],
   "source": [
    "import seaborn as sns\n",
    "plt.figure(figsize=(8, 8))\n",
    "dv_skills_counts = df[\"DV-skills\"].value_counts()\n",
    "plt.pie(dv_skills_counts, labels=dv_skills_counts.index, autopct=\"%1.1f%%\", colors=sns.color_palette(\"viridis\", len(dv_skills_counts)))\n",
    "plt.title(\"Distribution of DV-Skills\")\n",
    "plt.show()"
   ]
  },
  {
   "cell_type": "code",
   "execution_count": 21,
   "id": "52348aaa-d62e-44df-b7e8-8e234e7ad374",
   "metadata": {},
   "outputs": [
    {
     "name": "stdout",
     "output_type": "stream",
     "text": [
      "Subset of Students who scored 20 in any subject:\n",
      "     S.NO SECTION    DV  M-II    PP  BEEE    FL  FIMS  Total  PERCENTAGE  \\\n",
      "4       5   ALPHA  18.0  17.0  19.0  19.0  20.0  18.0  111.0   92.500000   \n",
      "6       7   ALPHA  15.0  10.0  20.0  20.0  15.0  14.0   94.0   78.333333   \n",
      "7       8   ALPHA  17.0  17.0  19.0  20.0  19.0  13.0  105.0   87.500000   \n",
      "8       9   ALPHA  10.0  18.0   0.0  20.0  19.0  15.0    0.0    0.000000   \n",
      "9      10   ALPHA  18.0  19.0  20.0  20.0  20.0  15.0  112.0   93.333333   \n",
      "..    ...     ...   ...   ...   ...   ...   ...   ...    ...         ...   \n",
      "705   704    ZETA  16.0   0.0  11.0  16.0  20.0   0.0    0.0    0.000000   \n",
      "709   708    ZETA  19.0  17.0  12.0  17.0  20.0  16.0  101.0   84.166667   \n",
      "711   710    ZETA  18.0   9.0  12.0  20.0  16.0  16.0   91.0   75.833333   \n",
      "714   713    ZETA  12.0   1.0   7.0  10.0  20.0   8.0   58.0   48.333333   \n",
      "717   716    ZETA  19.0  14.0  17.0  16.0  20.0  19.0  105.0   87.500000   \n",
      "\n",
      "    GRADE  DV-skills  \n",
      "4       A  very good  \n",
      "6       C       good  \n",
      "7       B       good  \n",
      "8       F       poor  \n",
      "9       A  very good  \n",
      "..    ...        ...  \n",
      "705     F       good  \n",
      "709     B  very good  \n",
      "711     C  very good  \n",
      "714     F       poor  \n",
      "717     B  very good  \n",
      "\n",
      "[300 rows x 12 columns]\n",
      "Students who scored 20 in DV: 103\n",
      "Students who scored 20 in M-II: 69\n",
      "Students who scored 20 in PP: 106\n",
      "Students who scored 20 in BEEE: 103\n",
      "Students who scored 20 in FL: 189\n",
      "Students who scored 20 in FIMS: 32\n"
     ]
    }
   ],
   "source": [
    "subjects = ['DV', 'M-II', 'PP', 'BEEE', 'FL', 'FIMS']\n",
    "subset = df[df[subjects].eq(20).any(axis=1)]\n",
    "print(\"Subset of Students who scored 20 in any subject:\")\n",
    "print(subset)\n",
    "for subject in subjects:\n",
    "    count_20 = (df[subject] == 20).sum()\n",
    "    print(f\"Students who scored 20 in {subject}: {count_20}\")"
   ]
  },
  {
   "cell_type": "code",
   "execution_count": 22,
   "id": "9c72471f-4c99-4a8e-b1f7-7030a60ad93e",
   "metadata": {},
   "outputs": [
    {
     "data": {
      "text/plain": [
       "DV-skills\n",
       "very good    232\n",
       "good         216\n",
       "poor         197\n",
       "average       71\n",
       "Name: count, dtype: int64"
      ]
     },
     "execution_count": 22,
     "metadata": {},
     "output_type": "execute_result"
    }
   ],
   "source": [
    "df['DV-skills'].value_counts()"
   ]
  },
  {
   "cell_type": "code",
   "execution_count": 23,
   "id": "d17009f5-ac10-4741-ab47-6a7f3b6678ec",
   "metadata": {},
   "outputs": [
    {
     "data": {
      "text/plain": [
       "GRADE\n",
       "A    23\n",
       "F    23\n",
       "C    18\n",
       "B    16\n",
       "D    10\n",
       "Name: count, dtype: int64"
      ]
     },
     "execution_count": 23,
     "metadata": {},
     "output_type": "execute_result"
    }
   ],
   "source": [
    "df[df['SECTION'] == 'ALPHA']['GRADE'].value_counts()"
   ]
  },
  {
   "cell_type": "markdown",
   "id": "cd42164a-296d-42cd-9edf-5f61cc0d13e0",
   "metadata": {},
   "source": [
    "# Counting grade frequencies for 'ALPHA' section in dataframe"
   ]
  },
  {
   "cell_type": "code",
   "execution_count": 24,
   "id": "b568d07b-1750-400e-9913-e4547faf095e",
   "metadata": {},
   "outputs": [
    {
     "data": {
      "text/plain": [
       "GRADE\n",
       "F    32\n",
       "C    17\n",
       "D    16\n",
       "B    15\n",
       "A    10\n",
       "Name: count, dtype: int64"
      ]
     },
     "execution_count": 24,
     "metadata": {},
     "output_type": "execute_result"
    }
   ],
   "source": [
    "df[df['SECTION'] == 'BETA']['GRADE'].value_counts()"
   ]
  },
  {
   "cell_type": "markdown",
   "id": "82cb4c15-ed0e-4431-b2f1-35dbcd9006dd",
   "metadata": {},
   "source": [
    "# Counting grade frequencies for 'BETA' section in dataframe"
   ]
  },
  {
   "cell_type": "code",
   "execution_count": 25,
   "id": "dc736c8d-bef5-4684-940b-71504c6919b8",
   "metadata": {},
   "outputs": [
    {
     "data": {
      "text/plain": [
       "GRADE\n",
       "F    38\n",
       "D    16\n",
       "B    16\n",
       "C    12\n",
       "A     8\n",
       "Name: count, dtype: int64"
      ]
     },
     "execution_count": 25,
     "metadata": {},
     "output_type": "execute_result"
    }
   ],
   "source": [
    "df[df['SECTION'] == 'DELTA']['GRADE'].value_counts()"
   ]
  },
  {
   "cell_type": "markdown",
   "id": "04c4782b-6971-4050-94ab-baa670d76379",
   "metadata": {},
   "source": [
    "# Counting grade frequencies for 'DELTA' section in dataframe"
   ]
  },
  {
   "cell_type": "code",
   "execution_count": 26,
   "id": "975f2f11-e144-4352-8ba3-5d6fcadc4fbe",
   "metadata": {},
   "outputs": [
    {
     "data": {
      "text/plain": [
       "GRADE\n",
       "F    43\n",
       "C    15\n",
       "D    14\n",
       "B    11\n",
       "A     5\n",
       "Name: count, dtype: int64"
      ]
     },
     "execution_count": 26,
     "metadata": {},
     "output_type": "execute_result"
    }
   ],
   "source": [
    "df[df['SECTION'] == 'EPSILON']['GRADE'].value_counts()"
   ]
  },
  {
   "cell_type": "markdown",
   "id": "8ee074dd-6a9f-4f7b-a247-5595369ca917",
   "metadata": {},
   "source": [
    "# Counting grade frequencies for 'EPSILON' section in dataframe"
   ]
  },
  {
   "cell_type": "code",
   "execution_count": 27,
   "id": "7e31059f-4a1e-4469-850f-3f2f5d5968e3",
   "metadata": {},
   "outputs": [
    {
     "data": {
      "text/plain": [
       "GRADE\n",
       "F    31\n",
       "C    21\n",
       "D    15\n",
       "B    14\n",
       "A     9\n",
       "Name: count, dtype: int64"
      ]
     },
     "execution_count": 27,
     "metadata": {},
     "output_type": "execute_result"
    }
   ],
   "source": [
    "df[df['SECTION'] == 'GAMMA']['GRADE'].value_counts()"
   ]
  },
  {
   "cell_type": "markdown",
   "id": "df94c104-6404-42ff-8243-103a0f9a386e",
   "metadata": {},
   "source": [
    "# Counting grade frequencies for 'GAMMA' section in dataframe"
   ]
  },
  {
   "cell_type": "code",
   "execution_count": 28,
   "id": "5e82fef6-85b3-45a4-ba54-5996a0cfadc7",
   "metadata": {},
   "outputs": [
    {
     "data": {
      "text/plain": [
       "GRADE\n",
       "C    21\n",
       "F    21\n",
       "A    20\n",
       "B    15\n",
       "D    13\n",
       "Name: count, dtype: int64"
      ]
     },
     "execution_count": 28,
     "metadata": {},
     "output_type": "execute_result"
    }
   ],
   "source": [
    "df[df['SECTION'] == 'OMEGA']['GRADE'].value_counts()"
   ]
  },
  {
   "cell_type": "code",
   "execution_count": 29,
   "id": "3e7a0979-d18a-4c76-858b-b22ebc500874",
   "metadata": {},
   "outputs": [
    {
     "data": {
      "text/plain": [
       "GRADE\n",
       "A    29\n",
       "B    18\n",
       "F    18\n",
       "D    14\n",
       "C     9\n",
       "Name: count, dtype: int64"
      ]
     },
     "execution_count": 29,
     "metadata": {},
     "output_type": "execute_result"
    }
   ],
   "source": [
    "df[df['SECTION'] == 'SIGMA']['GRADE'].value_counts()"
   ]
  },
  {
   "cell_type": "markdown",
   "id": "6c411d67-f8c7-4a4d-a4b6-e3251c6acfd0",
   "metadata": {},
   "source": [
    "# Counting grade frequencies for 'SIGMA' section in dataframe"
   ]
  },
  {
   "cell_type": "code",
   "execution_count": 30,
   "id": "d1cdcb03-2f68-46b6-a244-da5a629a9323",
   "metadata": {},
   "outputs": [
    {
     "data": {
      "text/plain": [
       "GRADE\n",
       "F    36\n",
       "C    20\n",
       "D    16\n",
       "B    14\n",
       "A     4\n",
       "Name: count, dtype: int64"
      ]
     },
     "execution_count": 30,
     "metadata": {},
     "output_type": "execute_result"
    }
   ],
   "source": [
    "df[df['SECTION'] == 'ZETA']['GRADE'].value_counts()"
   ]
  },
  {
   "cell_type": "markdown",
   "id": "cd6e9f30-a4ad-4381-926d-5d7bb683aadf",
   "metadata": {},
   "source": [
    "# Counting grade frequencies for 'ZETA' section in dataframe"
   ]
  },
  {
   "cell_type": "code",
   "execution_count": 31,
   "id": "e3ece813-f09c-463c-8d4e-a8946a92117a",
   "metadata": {},
   "outputs": [
    {
     "data": {
      "text/plain": [
       "SECTION\n",
       "SIGMA      29\n",
       "ALPHA      23\n",
       "OMEGA      20\n",
       "BETA       10\n",
       "GAMMA       9\n",
       "DELTA       8\n",
       "EPSILON     5\n",
       "ZETA        4\n",
       "Name: count, dtype: int64"
      ]
     },
     "execution_count": 31,
     "metadata": {},
     "output_type": "execute_result"
    }
   ],
   "source": [
    "a_grades = df[df['GRADE'] == 'A']\n",
    "a_grades['SECTION'].value_counts()"
   ]
  },
  {
   "cell_type": "markdown",
   "id": "47714f3c-e7a0-4e55-9792-3178cc5c9eb5",
   "metadata": {},
   "source": [
    "# Counting sections with 'A' grades in dataframe"
   ]
  },
  {
   "cell_type": "code",
   "execution_count": 32,
   "id": "ac528ef2-15a5-4072-96a8-14463dfb36c1",
   "metadata": {},
   "outputs": [
    {
     "data": {
      "text/html": [
       "<div>\n",
       "<style scoped>\n",
       "    .dataframe tbody tr th:only-of-type {\n",
       "        vertical-align: middle;\n",
       "    }\n",
       "\n",
       "    .dataframe tbody tr th {\n",
       "        vertical-align: top;\n",
       "    }\n",
       "\n",
       "    .dataframe thead th {\n",
       "        text-align: right;\n",
       "    }\n",
       "</style>\n",
       "<table border=\"1\" class=\"dataframe\">\n",
       "  <thead>\n",
       "    <tr style=\"text-align: right;\">\n",
       "      <th></th>\n",
       "      <th>S.NO</th>\n",
       "      <th>SECTION</th>\n",
       "      <th>DV</th>\n",
       "      <th>M-II</th>\n",
       "      <th>PP</th>\n",
       "      <th>BEEE</th>\n",
       "      <th>FL</th>\n",
       "      <th>FIMS</th>\n",
       "      <th>Total</th>\n",
       "      <th>PERCENTAGE</th>\n",
       "      <th>GRADE</th>\n",
       "      <th>DV-skills</th>\n",
       "    </tr>\n",
       "  </thead>\n",
       "  <tbody>\n",
       "    <tr>\n",
       "      <th>369</th>\n",
       "      <td>370</td>\n",
       "      <td>GAMMA</td>\n",
       "      <td>18.0</td>\n",
       "      <td>15.0</td>\n",
       "      <td>13.0</td>\n",
       "      <td>20.0</td>\n",
       "      <td>15.0</td>\n",
       "      <td>0.0</td>\n",
       "      <td>0.0</td>\n",
       "      <td>0.000000</td>\n",
       "      <td>F</td>\n",
       "      <td>very good</td>\n",
       "    </tr>\n",
       "    <tr>\n",
       "      <th>487</th>\n",
       "      <td>488</td>\n",
       "      <td>OMEGA</td>\n",
       "      <td>1.0</td>\n",
       "      <td>5.0</td>\n",
       "      <td>0.0</td>\n",
       "      <td>0.0</td>\n",
       "      <td>0.0</td>\n",
       "      <td>0.0</td>\n",
       "      <td>0.0</td>\n",
       "      <td>0.000000</td>\n",
       "      <td>F</td>\n",
       "      <td>poor</td>\n",
       "    </tr>\n",
       "    <tr>\n",
       "      <th>336</th>\n",
       "      <td>337</td>\n",
       "      <td>EPSILON</td>\n",
       "      <td>0.0</td>\n",
       "      <td>0.0</td>\n",
       "      <td>0.0</td>\n",
       "      <td>0.0</td>\n",
       "      <td>0.0</td>\n",
       "      <td>0.0</td>\n",
       "      <td>0.0</td>\n",
       "      <td>0.000000</td>\n",
       "      <td>F</td>\n",
       "      <td>poor</td>\n",
       "    </tr>\n",
       "    <tr>\n",
       "      <th>495</th>\n",
       "      <td>496</td>\n",
       "      <td>OMEGA</td>\n",
       "      <td>0.0</td>\n",
       "      <td>0.0</td>\n",
       "      <td>0.0</td>\n",
       "      <td>0.0</td>\n",
       "      <td>0.0</td>\n",
       "      <td>0.0</td>\n",
       "      <td>0.0</td>\n",
       "      <td>0.000000</td>\n",
       "      <td>F</td>\n",
       "      <td>poor</td>\n",
       "    </tr>\n",
       "    <tr>\n",
       "      <th>82</th>\n",
       "      <td>83</td>\n",
       "      <td>ALPHA</td>\n",
       "      <td>2.0</td>\n",
       "      <td>0.0</td>\n",
       "      <td>2.0</td>\n",
       "      <td>0.0</td>\n",
       "      <td>0.0</td>\n",
       "      <td>0.0</td>\n",
       "      <td>0.0</td>\n",
       "      <td>0.000000</td>\n",
       "      <td>F</td>\n",
       "      <td>poor</td>\n",
       "    </tr>\n",
       "    <tr>\n",
       "      <th>...</th>\n",
       "      <td>...</td>\n",
       "      <td>...</td>\n",
       "      <td>...</td>\n",
       "      <td>...</td>\n",
       "      <td>...</td>\n",
       "      <td>...</td>\n",
       "      <td>...</td>\n",
       "      <td>...</td>\n",
       "      <td>...</td>\n",
       "      <td>...</td>\n",
       "      <td>...</td>\n",
       "      <td>...</td>\n",
       "    </tr>\n",
       "    <tr>\n",
       "      <th>251</th>\n",
       "      <td>252</td>\n",
       "      <td>DELTA</td>\n",
       "      <td>20.0</td>\n",
       "      <td>20.0</td>\n",
       "      <td>20.0</td>\n",
       "      <td>19.0</td>\n",
       "      <td>20.0</td>\n",
       "      <td>20.0</td>\n",
       "      <td>119.0</td>\n",
       "      <td>99.166667</td>\n",
       "      <td>A</td>\n",
       "      <td>very good</td>\n",
       "    </tr>\n",
       "    <tr>\n",
       "      <th>507</th>\n",
       "      <td>508</td>\n",
       "      <td>OMEGA</td>\n",
       "      <td>20.0</td>\n",
       "      <td>20.0</td>\n",
       "      <td>20.0</td>\n",
       "      <td>20.0</td>\n",
       "      <td>20.0</td>\n",
       "      <td>20.0</td>\n",
       "      <td>120.0</td>\n",
       "      <td>100.000000</td>\n",
       "      <td>A</td>\n",
       "      <td>very good</td>\n",
       "    </tr>\n",
       "    <tr>\n",
       "      <th>596</th>\n",
       "      <td>596</td>\n",
       "      <td>SIGMA</td>\n",
       "      <td>20.0</td>\n",
       "      <td>20.0</td>\n",
       "      <td>20.0</td>\n",
       "      <td>20.0</td>\n",
       "      <td>20.0</td>\n",
       "      <td>20.0</td>\n",
       "      <td>120.0</td>\n",
       "      <td>100.000000</td>\n",
       "      <td>A</td>\n",
       "      <td>very good</td>\n",
       "    </tr>\n",
       "    <tr>\n",
       "      <th>505</th>\n",
       "      <td>506</td>\n",
       "      <td>OMEGA</td>\n",
       "      <td>20.0</td>\n",
       "      <td>20.0</td>\n",
       "      <td>20.0</td>\n",
       "      <td>20.0</td>\n",
       "      <td>20.0</td>\n",
       "      <td>20.0</td>\n",
       "      <td>120.0</td>\n",
       "      <td>100.000000</td>\n",
       "      <td>A</td>\n",
       "      <td>very good</td>\n",
       "    </tr>\n",
       "    <tr>\n",
       "      <th>574</th>\n",
       "      <td>574</td>\n",
       "      <td>SIGMA</td>\n",
       "      <td>20.0</td>\n",
       "      <td>20.0</td>\n",
       "      <td>20.0</td>\n",
       "      <td>20.0</td>\n",
       "      <td>20.0</td>\n",
       "      <td>20.0</td>\n",
       "      <td>120.0</td>\n",
       "      <td>100.000000</td>\n",
       "      <td>A</td>\n",
       "      <td>very good</td>\n",
       "    </tr>\n",
       "  </tbody>\n",
       "</table>\n",
       "<p>716 rows × 12 columns</p>\n",
       "</div>"
      ],
      "text/plain": [
       "     S.NO  SECTION    DV  M-II    PP  BEEE    FL  FIMS  Total  PERCENTAGE  \\\n",
       "369   370    GAMMA  18.0  15.0  13.0  20.0  15.0   0.0    0.0    0.000000   \n",
       "487   488    OMEGA   1.0   5.0   0.0   0.0   0.0   0.0    0.0    0.000000   \n",
       "336   337  EPSILON   0.0   0.0   0.0   0.0   0.0   0.0    0.0    0.000000   \n",
       "495   496    OMEGA   0.0   0.0   0.0   0.0   0.0   0.0    0.0    0.000000   \n",
       "82     83    ALPHA   2.0   0.0   2.0   0.0   0.0   0.0    0.0    0.000000   \n",
       "..    ...      ...   ...   ...   ...   ...   ...   ...    ...         ...   \n",
       "251   252    DELTA  20.0  20.0  20.0  19.0  20.0  20.0  119.0   99.166667   \n",
       "507   508    OMEGA  20.0  20.0  20.0  20.0  20.0  20.0  120.0  100.000000   \n",
       "596   596    SIGMA  20.0  20.0  20.0  20.0  20.0  20.0  120.0  100.000000   \n",
       "505   506    OMEGA  20.0  20.0  20.0  20.0  20.0  20.0  120.0  100.000000   \n",
       "574   574    SIGMA  20.0  20.0  20.0  20.0  20.0  20.0  120.0  100.000000   \n",
       "\n",
       "    GRADE  DV-skills  \n",
       "369     F  very good  \n",
       "487     F       poor  \n",
       "336     F       poor  \n",
       "495     F       poor  \n",
       "82      F       poor  \n",
       "..    ...        ...  \n",
       "251     A  very good  \n",
       "507     A  very good  \n",
       "596     A  very good  \n",
       "505     A  very good  \n",
       "574     A  very good  \n",
       "\n",
       "[716 rows x 12 columns]"
      ]
     },
     "execution_count": 32,
     "metadata": {},
     "output_type": "execute_result"
    }
   ],
   "source": [
    "DF=df.sort_values(\"Total\",ascending=True)\n",
    "DF"
   ]
  },
  {
   "cell_type": "markdown",
   "id": "08432e1b-ddc6-48f4-b377-09f131c9d54b",
   "metadata": {},
   "source": [
    "# Sorting dataframe by 'Total' in ascending order"
   ]
  },
  {
   "cell_type": "code",
   "execution_count": 33,
   "id": "a5ec407e-a196-4e2e-a1af-e3b8c617259b",
   "metadata": {},
   "outputs": [
    {
     "data": {
      "text/html": [
       "<div>\n",
       "<style scoped>\n",
       "    .dataframe tbody tr th:only-of-type {\n",
       "        vertical-align: middle;\n",
       "    }\n",
       "\n",
       "    .dataframe tbody tr th {\n",
       "        vertical-align: top;\n",
       "    }\n",
       "\n",
       "    .dataframe thead th {\n",
       "        text-align: right;\n",
       "    }\n",
       "</style>\n",
       "<table border=\"1\" class=\"dataframe\">\n",
       "  <thead>\n",
       "    <tr style=\"text-align: right;\">\n",
       "      <th></th>\n",
       "      <th>index</th>\n",
       "      <th>S.NO</th>\n",
       "      <th>SECTION</th>\n",
       "      <th>DV</th>\n",
       "      <th>M-II</th>\n",
       "      <th>PP</th>\n",
       "      <th>BEEE</th>\n",
       "      <th>FL</th>\n",
       "      <th>FIMS</th>\n",
       "      <th>Total</th>\n",
       "      <th>PERCENTAGE</th>\n",
       "      <th>GRADE</th>\n",
       "      <th>DV-skills</th>\n",
       "    </tr>\n",
       "  </thead>\n",
       "  <tbody>\n",
       "    <tr>\n",
       "      <th>0</th>\n",
       "      <td>0</td>\n",
       "      <td>1</td>\n",
       "      <td>ALPHA</td>\n",
       "      <td>12.0</td>\n",
       "      <td>0.0</td>\n",
       "      <td>17.0</td>\n",
       "      <td>9.0</td>\n",
       "      <td>19.0</td>\n",
       "      <td>15.0</td>\n",
       "      <td>72.0</td>\n",
       "      <td>60.000000</td>\n",
       "      <td>D</td>\n",
       "      <td>poor</td>\n",
       "    </tr>\n",
       "    <tr>\n",
       "      <th>1</th>\n",
       "      <td>20</td>\n",
       "      <td>21</td>\n",
       "      <td>ALPHA</td>\n",
       "      <td>4.0</td>\n",
       "      <td>2.0</td>\n",
       "      <td>5.0</td>\n",
       "      <td>3.0</td>\n",
       "      <td>16.0</td>\n",
       "      <td>9.0</td>\n",
       "      <td>39.0</td>\n",
       "      <td>32.500000</td>\n",
       "      <td>F</td>\n",
       "      <td>poor</td>\n",
       "    </tr>\n",
       "    <tr>\n",
       "      <th>2</th>\n",
       "      <td>25</td>\n",
       "      <td>26</td>\n",
       "      <td>ALPHA</td>\n",
       "      <td>6.0</td>\n",
       "      <td>10.0</td>\n",
       "      <td>10.0</td>\n",
       "      <td>11.0</td>\n",
       "      <td>13.0</td>\n",
       "      <td>10.0</td>\n",
       "      <td>60.0</td>\n",
       "      <td>50.000000</td>\n",
       "      <td>F</td>\n",
       "      <td>poor</td>\n",
       "    </tr>\n",
       "    <tr>\n",
       "      <th>3</th>\n",
       "      <td>27</td>\n",
       "      <td>28</td>\n",
       "      <td>ALPHA</td>\n",
       "      <td>5.0</td>\n",
       "      <td>4.0</td>\n",
       "      <td>3.0</td>\n",
       "      <td>12.0</td>\n",
       "      <td>13.0</td>\n",
       "      <td>5.0</td>\n",
       "      <td>42.0</td>\n",
       "      <td>35.000000</td>\n",
       "      <td>F</td>\n",
       "      <td>poor</td>\n",
       "    </tr>\n",
       "    <tr>\n",
       "      <th>4</th>\n",
       "      <td>29</td>\n",
       "      <td>30</td>\n",
       "      <td>ALPHA</td>\n",
       "      <td>8.0</td>\n",
       "      <td>2.0</td>\n",
       "      <td>11.0</td>\n",
       "      <td>10.0</td>\n",
       "      <td>13.0</td>\n",
       "      <td>12.0</td>\n",
       "      <td>56.0</td>\n",
       "      <td>46.666667</td>\n",
       "      <td>F</td>\n",
       "      <td>poor</td>\n",
       "    </tr>\n",
       "    <tr>\n",
       "      <th>...</th>\n",
       "      <td>...</td>\n",
       "      <td>...</td>\n",
       "      <td>...</td>\n",
       "      <td>...</td>\n",
       "      <td>...</td>\n",
       "      <td>...</td>\n",
       "      <td>...</td>\n",
       "      <td>...</td>\n",
       "      <td>...</td>\n",
       "      <td>...</td>\n",
       "      <td>...</td>\n",
       "      <td>...</td>\n",
       "      <td>...</td>\n",
       "    </tr>\n",
       "    <tr>\n",
       "      <th>227</th>\n",
       "      <td>700</td>\n",
       "      <td>699</td>\n",
       "      <td>ZETA</td>\n",
       "      <td>17.0</td>\n",
       "      <td>7.0</td>\n",
       "      <td>7.0</td>\n",
       "      <td>12.0</td>\n",
       "      <td>13.0</td>\n",
       "      <td>9.0</td>\n",
       "      <td>65.0</td>\n",
       "      <td>54.166667</td>\n",
       "      <td>F</td>\n",
       "      <td>good</td>\n",
       "    </tr>\n",
       "    <tr>\n",
       "      <th>228</th>\n",
       "      <td>701</td>\n",
       "      <td>700</td>\n",
       "      <td>ZETA</td>\n",
       "      <td>15.0</td>\n",
       "      <td>4.0</td>\n",
       "      <td>3.0</td>\n",
       "      <td>13.0</td>\n",
       "      <td>14.0</td>\n",
       "      <td>13.0</td>\n",
       "      <td>62.0</td>\n",
       "      <td>51.666667</td>\n",
       "      <td>F</td>\n",
       "      <td>good</td>\n",
       "    </tr>\n",
       "    <tr>\n",
       "      <th>229</th>\n",
       "      <td>710</td>\n",
       "      <td>709</td>\n",
       "      <td>ZETA</td>\n",
       "      <td>18.0</td>\n",
       "      <td>1.0</td>\n",
       "      <td>6.0</td>\n",
       "      <td>12.0</td>\n",
       "      <td>11.0</td>\n",
       "      <td>9.0</td>\n",
       "      <td>57.0</td>\n",
       "      <td>47.500000</td>\n",
       "      <td>F</td>\n",
       "      <td>very good</td>\n",
       "    </tr>\n",
       "    <tr>\n",
       "      <th>230</th>\n",
       "      <td>714</td>\n",
       "      <td>713</td>\n",
       "      <td>ZETA</td>\n",
       "      <td>12.0</td>\n",
       "      <td>1.0</td>\n",
       "      <td>7.0</td>\n",
       "      <td>10.0</td>\n",
       "      <td>20.0</td>\n",
       "      <td>8.0</td>\n",
       "      <td>58.0</td>\n",
       "      <td>48.333333</td>\n",
       "      <td>F</td>\n",
       "      <td>poor</td>\n",
       "    </tr>\n",
       "    <tr>\n",
       "      <th>231</th>\n",
       "      <td>716</td>\n",
       "      <td>715</td>\n",
       "      <td>ZETA</td>\n",
       "      <td>12.0</td>\n",
       "      <td>1.0</td>\n",
       "      <td>6.0</td>\n",
       "      <td>7.0</td>\n",
       "      <td>15.0</td>\n",
       "      <td>12.0</td>\n",
       "      <td>53.0</td>\n",
       "      <td>44.166667</td>\n",
       "      <td>F</td>\n",
       "      <td>poor</td>\n",
       "    </tr>\n",
       "  </tbody>\n",
       "</table>\n",
       "<p>232 rows × 13 columns</p>\n",
       "</div>"
      ],
      "text/plain": [
       "     index  S.NO SECTION    DV  M-II    PP  BEEE    FL  FIMS  Total  \\\n",
       "0        0     1   ALPHA  12.0   0.0  17.0   9.0  19.0  15.0   72.0   \n",
       "1       20    21   ALPHA   4.0   2.0   5.0   3.0  16.0   9.0   39.0   \n",
       "2       25    26   ALPHA   6.0  10.0  10.0  11.0  13.0  10.0   60.0   \n",
       "3       27    28   ALPHA   5.0   4.0   3.0  12.0  13.0   5.0   42.0   \n",
       "4       29    30   ALPHA   8.0   2.0  11.0  10.0  13.0  12.0   56.0   \n",
       "..     ...   ...     ...   ...   ...   ...   ...   ...   ...    ...   \n",
       "227    700   699    ZETA  17.0   7.0   7.0  12.0  13.0   9.0   65.0   \n",
       "228    701   700    ZETA  15.0   4.0   3.0  13.0  14.0  13.0   62.0   \n",
       "229    710   709    ZETA  18.0   1.0   6.0  12.0  11.0   9.0   57.0   \n",
       "230    714   713    ZETA  12.0   1.0   7.0  10.0  20.0   8.0   58.0   \n",
       "231    716   715    ZETA  12.0   1.0   6.0   7.0  15.0  12.0   53.0   \n",
       "\n",
       "     PERCENTAGE GRADE  DV-skills  \n",
       "0     60.000000     D       poor  \n",
       "1     32.500000     F       poor  \n",
       "2     50.000000     F       poor  \n",
       "3     35.000000     F       poor  \n",
       "4     46.666667     F       poor  \n",
       "..          ...   ...        ...  \n",
       "227   54.166667     F       good  \n",
       "228   51.666667     F       good  \n",
       "229   47.500000     F  very good  \n",
       "230   48.333333     F       poor  \n",
       "231   44.166667     F       poor  \n",
       "\n",
       "[232 rows x 13 columns]"
      ]
     },
     "execution_count": 33,
     "metadata": {},
     "output_type": "execute_result"
    }
   ],
   "source": [
    "d=df.loc[(df['Total']>=25) & (df['Total']<=75)]\n",
    "d=d.reset_index()\n",
    "d"
   ]
  },
  {
   "cell_type": "code",
   "execution_count": 34,
   "id": "91560daf-1786-4f5a-9133-a6ae1092f1b2",
   "metadata": {},
   "outputs": [
    {
     "data": {
      "text/html": [
       "<div>\n",
       "<style scoped>\n",
       "    .dataframe tbody tr th:only-of-type {\n",
       "        vertical-align: middle;\n",
       "    }\n",
       "\n",
       "    .dataframe tbody tr th {\n",
       "        vertical-align: top;\n",
       "    }\n",
       "\n",
       "    .dataframe thead th {\n",
       "        text-align: right;\n",
       "    }\n",
       "</style>\n",
       "<table border=\"1\" class=\"dataframe\">\n",
       "  <thead>\n",
       "    <tr style=\"text-align: right;\">\n",
       "      <th></th>\n",
       "      <th>S.NO</th>\n",
       "      <th>SECTION</th>\n",
       "      <th>DV</th>\n",
       "      <th>M-II</th>\n",
       "      <th>PP</th>\n",
       "      <th>BEEE</th>\n",
       "      <th>FL</th>\n",
       "      <th>FIMS</th>\n",
       "      <th>Total</th>\n",
       "      <th>PERCENTAGE</th>\n",
       "      <th>GRADE</th>\n",
       "      <th>DV-skills</th>\n",
       "    </tr>\n",
       "  </thead>\n",
       "  <tbody>\n",
       "    <tr>\n",
       "      <th>394</th>\n",
       "      <td>395</td>\n",
       "      <td>GAMMA</td>\n",
       "      <td>20.0</td>\n",
       "      <td>8.0</td>\n",
       "      <td>0.0</td>\n",
       "      <td>0.0</td>\n",
       "      <td>13.0</td>\n",
       "      <td>13.0</td>\n",
       "      <td>54.0</td>\n",
       "      <td>45.0</td>\n",
       "      <td>F</td>\n",
       "      <td>very good</td>\n",
       "    </tr>\n",
       "    <tr>\n",
       "      <th>8</th>\n",
       "      <td>9</td>\n",
       "      <td>ALPHA</td>\n",
       "      <td>10.0</td>\n",
       "      <td>18.0</td>\n",
       "      <td>0.0</td>\n",
       "      <td>20.0</td>\n",
       "      <td>19.0</td>\n",
       "      <td>15.0</td>\n",
       "      <td>0.0</td>\n",
       "      <td>0.0</td>\n",
       "      <td>F</td>\n",
       "      <td>poor</td>\n",
       "    </tr>\n",
       "    <tr>\n",
       "      <th>551</th>\n",
       "      <td>552</td>\n",
       "      <td>SIGMA</td>\n",
       "      <td>0.0</td>\n",
       "      <td>0.0</td>\n",
       "      <td>0.0</td>\n",
       "      <td>0.0</td>\n",
       "      <td>0.0</td>\n",
       "      <td>0.0</td>\n",
       "      <td>0.0</td>\n",
       "      <td>0.0</td>\n",
       "      <td>F</td>\n",
       "      <td>poor</td>\n",
       "    </tr>\n",
       "    <tr>\n",
       "      <th>562</th>\n",
       "      <td>563</td>\n",
       "      <td>SIGMA</td>\n",
       "      <td>7.0</td>\n",
       "      <td>0.0</td>\n",
       "      <td>0.0</td>\n",
       "      <td>5.0</td>\n",
       "      <td>15.0</td>\n",
       "      <td>16.0</td>\n",
       "      <td>0.0</td>\n",
       "      <td>0.0</td>\n",
       "      <td>F</td>\n",
       "      <td>poor</td>\n",
       "    </tr>\n",
       "    <tr>\n",
       "      <th>88</th>\n",
       "      <td>89</td>\n",
       "      <td>ALPHA</td>\n",
       "      <td>2.0</td>\n",
       "      <td>17.0</td>\n",
       "      <td>0.0</td>\n",
       "      <td>3.0</td>\n",
       "      <td>15.0</td>\n",
       "      <td>2.0</td>\n",
       "      <td>39.0</td>\n",
       "      <td>32.5</td>\n",
       "      <td>F</td>\n",
       "      <td>poor</td>\n",
       "    </tr>\n",
       "    <tr>\n",
       "      <th>336</th>\n",
       "      <td>337</td>\n",
       "      <td>EPSILON</td>\n",
       "      <td>0.0</td>\n",
       "      <td>0.0</td>\n",
       "      <td>0.0</td>\n",
       "      <td>0.0</td>\n",
       "      <td>0.0</td>\n",
       "      <td>0.0</td>\n",
       "      <td>0.0</td>\n",
       "      <td>0.0</td>\n",
       "      <td>F</td>\n",
       "      <td>poor</td>\n",
       "    </tr>\n",
       "    <tr>\n",
       "      <th>673</th>\n",
       "      <td>672</td>\n",
       "      <td>ZETA</td>\n",
       "      <td>2.0</td>\n",
       "      <td>0.0</td>\n",
       "      <td>0.0</td>\n",
       "      <td>0.0</td>\n",
       "      <td>2.0</td>\n",
       "      <td>1.0</td>\n",
       "      <td>0.0</td>\n",
       "      <td>0.0</td>\n",
       "      <td>F</td>\n",
       "      <td>poor</td>\n",
       "    </tr>\n",
       "    <tr>\n",
       "      <th>611</th>\n",
       "      <td>610</td>\n",
       "      <td>SIGMA</td>\n",
       "      <td>2.0</td>\n",
       "      <td>0.0</td>\n",
       "      <td>0.0</td>\n",
       "      <td>3.0</td>\n",
       "      <td>10.0</td>\n",
       "      <td>9.0</td>\n",
       "      <td>24.0</td>\n",
       "      <td>20.0</td>\n",
       "      <td>F</td>\n",
       "      <td>poor</td>\n",
       "    </tr>\n",
       "    <tr>\n",
       "      <th>669</th>\n",
       "      <td>668</td>\n",
       "      <td>ZETA</td>\n",
       "      <td>16.0</td>\n",
       "      <td>6.0</td>\n",
       "      <td>0.0</td>\n",
       "      <td>0.0</td>\n",
       "      <td>8.0</td>\n",
       "      <td>9.0</td>\n",
       "      <td>0.0</td>\n",
       "      <td>0.0</td>\n",
       "      <td>F</td>\n",
       "      <td>good</td>\n",
       "    </tr>\n",
       "    <tr>\n",
       "      <th>556</th>\n",
       "      <td>557</td>\n",
       "      <td>SIGMA</td>\n",
       "      <td>0.0</td>\n",
       "      <td>0.0</td>\n",
       "      <td>0.0</td>\n",
       "      <td>0.0</td>\n",
       "      <td>0.0</td>\n",
       "      <td>0.0</td>\n",
       "      <td>0.0</td>\n",
       "      <td>0.0</td>\n",
       "      <td>F</td>\n",
       "      <td>poor</td>\n",
       "    </tr>\n",
       "  </tbody>\n",
       "</table>\n",
       "</div>"
      ],
      "text/plain": [
       "     S.NO  SECTION    DV  M-II   PP  BEEE    FL  FIMS  Total  PERCENTAGE  \\\n",
       "394   395    GAMMA  20.0   8.0  0.0   0.0  13.0  13.0   54.0        45.0   \n",
       "8       9    ALPHA  10.0  18.0  0.0  20.0  19.0  15.0    0.0         0.0   \n",
       "551   552    SIGMA   0.0   0.0  0.0   0.0   0.0   0.0    0.0         0.0   \n",
       "562   563    SIGMA   7.0   0.0  0.0   5.0  15.0  16.0    0.0         0.0   \n",
       "88     89    ALPHA   2.0  17.0  0.0   3.0  15.0   2.0   39.0        32.5   \n",
       "336   337  EPSILON   0.0   0.0  0.0   0.0   0.0   0.0    0.0         0.0   \n",
       "673   672     ZETA   2.0   0.0  0.0   0.0   2.0   1.0    0.0         0.0   \n",
       "611   610    SIGMA   2.0   0.0  0.0   3.0  10.0   9.0   24.0        20.0   \n",
       "669   668     ZETA  16.0   6.0  0.0   0.0   8.0   9.0    0.0         0.0   \n",
       "556   557    SIGMA   0.0   0.0  0.0   0.0   0.0   0.0    0.0         0.0   \n",
       "\n",
       "    GRADE  DV-skills  \n",
       "394     F  very good  \n",
       "8       F       poor  \n",
       "551     F       poor  \n",
       "562     F       poor  \n",
       "88      F       poor  \n",
       "336     F       poor  \n",
       "673     F       poor  \n",
       "611     F       poor  \n",
       "669     F       good  \n",
       "556     F       poor  "
      ]
     },
     "execution_count": 34,
     "metadata": {},
     "output_type": "execute_result"
    }
   ],
   "source": [
    "DF = df.sort_values(by='PP', ascending=False).tail(10)\n",
    "DF\n"
   ]
  },
  {
   "cell_type": "code",
   "execution_count": 35,
   "id": "072c2cec-d373-4121-aca1-03267469978a",
   "metadata": {},
   "outputs": [
    {
     "data": {
      "text/plain": [
       "S.NO          45.500000\n",
       "DV            13.411111\n",
       "M-II          13.711111\n",
       "PP            15.933333\n",
       "BEEE          15.622222\n",
       "FL            16.177778\n",
       "FIMS          12.700000\n",
       "Total         86.600000\n",
       "PERCENTAGE    72.166667\n",
       "dtype: float64"
      ]
     },
     "execution_count": 35,
     "metadata": {},
     "output_type": "execute_result"
    }
   ],
   "source": [
    "df[df[\"SECTION\"]==\"ALPHA\"].mean(numeric_only=True)\n"
   ]
  },
  {
   "cell_type": "code",
   "execution_count": 36,
   "id": "e53d58dd-de8f-4aca-aee1-bd7f06784b7c",
   "metadata": {},
   "outputs": [
    {
     "data": {
      "text/plain": [
       "SECTION\n",
       "ALPHA      17\n",
       "BETA       17\n",
       "DELTA      14\n",
       "GAMMA      11\n",
       "OMEGA      10\n",
       "ZETA        8\n",
       "SIGMA       6\n",
       "EPSILON     4\n",
       "Name: count, dtype: int64"
      ]
     },
     "execution_count": 36,
     "metadata": {},
     "output_type": "execute_result"
    }
   ],
   "source": [
    "df.SECTION[df.DV<10].value_counts()\n"
   ]
  },
  {
   "cell_type": "code",
   "execution_count": 37,
   "id": "db3211eb-6be2-48e4-a4b6-d45950591713",
   "metadata": {},
   "outputs": [
    {
     "data": {
      "text/plain": [
       "SECTION\n",
       "ZETA       50\n",
       "EPSILON    49\n",
       "GAMMA      36\n",
       "DELTA      28\n",
       "OMEGA      16\n",
       "SIGMA      14\n",
       "ALPHA      12\n",
       "BETA        8\n",
       "Name: count, dtype: int64"
      ]
     },
     "execution_count": 37,
     "metadata": {},
     "output_type": "execute_result"
    }
   ],
   "source": [
    "df.SECTION[df.PP<10].value_counts()"
   ]
  },
  {
   "cell_type": "code",
   "execution_count": 38,
   "id": "f6a015ad-eb1c-48a9-83a0-b4dd74324f23",
   "metadata": {},
   "outputs": [
    {
     "data": {
      "text/plain": [
       "SECTION\n",
       "DELTA      46\n",
       "BETA       41\n",
       "SIGMA      23\n",
       "OMEGA      21\n",
       "ZETA       18\n",
       "EPSILON    17\n",
       "GAMMA      17\n",
       "ALPHA       8\n",
       "Name: count, dtype: int64"
      ]
     },
     "execution_count": 38,
     "metadata": {},
     "output_type": "execute_result"
    }
   ],
   "source": [
    "df.SECTION[df.BEEE<10].value_counts()"
   ]
  },
  {
   "cell_type": "code",
   "execution_count": 39,
   "id": "47c87b59-1bfc-4f94-a130-7bfb71783bf1",
   "metadata": {},
   "outputs": [
    {
     "data": {
      "text/plain": [
       "SECTION\n",
       "ZETA       15\n",
       "OMEGA      12\n",
       "EPSILON     8\n",
       "GAMMA       2\n",
       "SIGMA       2\n",
       "ALPHA       1\n",
       "BETA        1\n",
       "DELTA       1\n",
       "Name: count, dtype: int64"
      ]
     },
     "execution_count": 39,
     "metadata": {},
     "output_type": "execute_result"
    }
   ],
   "source": [
    "df.SECTION[df.FL<10].value_counts()"
   ]
  },
  {
   "cell_type": "code",
   "execution_count": 40,
   "id": "f333ef2d-81db-4b47-be28-b5c7faf3f63a",
   "metadata": {},
   "outputs": [
    {
     "data": {
      "text/plain": [
       "SECTION\n",
       "GAMMA      23\n",
       "ALPHA      22\n",
       "EPSILON    22\n",
       "ZETA       20\n",
       "BETA       11\n",
       "SIGMA       9\n",
       "OMEGA       7\n",
       "DELTA       4\n",
       "Name: count, dtype: int64"
      ]
     },
     "execution_count": 40,
     "metadata": {},
     "output_type": "execute_result"
    }
   ],
   "source": [
    "df.SECTION[df.FIMS<10].value_counts()"
   ]
  },
  {
   "cell_type": "code",
   "execution_count": 41,
   "id": "129968a6-4d04-4c73-8cbc-b1bbb78bbf01",
   "metadata": {},
   "outputs": [
    {
     "ename": "KeyError",
     "evalue": "\"['M2'] not in index\"",
     "output_type": "error",
     "traceback": [
      "\u001b[1;31m---------------------------------------------------------------------------\u001b[0m",
      "\u001b[1;31mKeyError\u001b[0m                                  Traceback (most recent call last)",
      "Cell \u001b[1;32mIn[41], line 1\u001b[0m\n\u001b[1;32m----> 1\u001b[0m df[\u001b[38;5;124m'\u001b[39m\u001b[38;5;124mBC\u001b[39m\u001b[38;5;124m'\u001b[39m]\u001b[38;5;241m=\u001b[39m(df[[\u001b[38;5;124m'\u001b[39m\u001b[38;5;124mDV\u001b[39m\u001b[38;5;124m'\u001b[39m,\u001b[38;5;124m'\u001b[39m\u001b[38;5;124mM2\u001b[39m\u001b[38;5;124m'\u001b[39m,\u001b[38;5;124m'\u001b[39m\u001b[38;5;124mPP\u001b[39m\u001b[38;5;124m'\u001b[39m,\u001b[38;5;124m'\u001b[39m\u001b[38;5;124mBEEE\u001b[39m\u001b[38;5;124m'\u001b[39m,\u001b[38;5;124m'\u001b[39m\u001b[38;5;124mFL\u001b[39m\u001b[38;5;124m'\u001b[39m,\u001b[38;5;124m'\u001b[39m\u001b[38;5;124mFIMS\u001b[39m\u001b[38;5;124m'\u001b[39m]]\u001b[38;5;241m<\u001b[39m\u001b[38;5;241m10\u001b[39m)\u001b[38;5;241m.\u001b[39msum(axis\u001b[38;5;241m=\u001b[39m\u001b[38;5;241m1\u001b[39m)\n\u001b[0;32m      2\u001b[0m df\n",
      "File \u001b[1;32m~\\OneDrive\\Desktop\\anaconda\\Lib\\site-packages\\pandas\\core\\frame.py:4108\u001b[0m, in \u001b[0;36mDataFrame.__getitem__\u001b[1;34m(self, key)\u001b[0m\n\u001b[0;32m   4106\u001b[0m     \u001b[38;5;28;01mif\u001b[39;00m is_iterator(key):\n\u001b[0;32m   4107\u001b[0m         key \u001b[38;5;241m=\u001b[39m \u001b[38;5;28mlist\u001b[39m(key)\n\u001b[1;32m-> 4108\u001b[0m     indexer \u001b[38;5;241m=\u001b[39m \u001b[38;5;28mself\u001b[39m\u001b[38;5;241m.\u001b[39mcolumns\u001b[38;5;241m.\u001b[39m_get_indexer_strict(key, \u001b[38;5;124m\"\u001b[39m\u001b[38;5;124mcolumns\u001b[39m\u001b[38;5;124m\"\u001b[39m)[\u001b[38;5;241m1\u001b[39m]\n\u001b[0;32m   4110\u001b[0m \u001b[38;5;66;03m# take() does not accept boolean indexers\u001b[39;00m\n\u001b[0;32m   4111\u001b[0m \u001b[38;5;28;01mif\u001b[39;00m \u001b[38;5;28mgetattr\u001b[39m(indexer, \u001b[38;5;124m\"\u001b[39m\u001b[38;5;124mdtype\u001b[39m\u001b[38;5;124m\"\u001b[39m, \u001b[38;5;28;01mNone\u001b[39;00m) \u001b[38;5;241m==\u001b[39m \u001b[38;5;28mbool\u001b[39m:\n",
      "File \u001b[1;32m~\\OneDrive\\Desktop\\anaconda\\Lib\\site-packages\\pandas\\core\\indexes\\base.py:6200\u001b[0m, in \u001b[0;36mIndex._get_indexer_strict\u001b[1;34m(self, key, axis_name)\u001b[0m\n\u001b[0;32m   6197\u001b[0m \u001b[38;5;28;01melse\u001b[39;00m:\n\u001b[0;32m   6198\u001b[0m     keyarr, indexer, new_indexer \u001b[38;5;241m=\u001b[39m \u001b[38;5;28mself\u001b[39m\u001b[38;5;241m.\u001b[39m_reindex_non_unique(keyarr)\n\u001b[1;32m-> 6200\u001b[0m \u001b[38;5;28mself\u001b[39m\u001b[38;5;241m.\u001b[39m_raise_if_missing(keyarr, indexer, axis_name)\n\u001b[0;32m   6202\u001b[0m keyarr \u001b[38;5;241m=\u001b[39m \u001b[38;5;28mself\u001b[39m\u001b[38;5;241m.\u001b[39mtake(indexer)\n\u001b[0;32m   6203\u001b[0m \u001b[38;5;28;01mif\u001b[39;00m \u001b[38;5;28misinstance\u001b[39m(key, Index):\n\u001b[0;32m   6204\u001b[0m     \u001b[38;5;66;03m# GH 42790 - Preserve name from an Index\u001b[39;00m\n",
      "File \u001b[1;32m~\\OneDrive\\Desktop\\anaconda\\Lib\\site-packages\\pandas\\core\\indexes\\base.py:6252\u001b[0m, in \u001b[0;36mIndex._raise_if_missing\u001b[1;34m(self, key, indexer, axis_name)\u001b[0m\n\u001b[0;32m   6249\u001b[0m     \u001b[38;5;28;01mraise\u001b[39;00m \u001b[38;5;167;01mKeyError\u001b[39;00m(\u001b[38;5;124mf\u001b[39m\u001b[38;5;124m\"\u001b[39m\u001b[38;5;124mNone of [\u001b[39m\u001b[38;5;132;01m{\u001b[39;00mkey\u001b[38;5;132;01m}\u001b[39;00m\u001b[38;5;124m] are in the [\u001b[39m\u001b[38;5;132;01m{\u001b[39;00maxis_name\u001b[38;5;132;01m}\u001b[39;00m\u001b[38;5;124m]\u001b[39m\u001b[38;5;124m\"\u001b[39m)\n\u001b[0;32m   6251\u001b[0m not_found \u001b[38;5;241m=\u001b[39m \u001b[38;5;28mlist\u001b[39m(ensure_index(key)[missing_mask\u001b[38;5;241m.\u001b[39mnonzero()[\u001b[38;5;241m0\u001b[39m]]\u001b[38;5;241m.\u001b[39munique())\n\u001b[1;32m-> 6252\u001b[0m \u001b[38;5;28;01mraise\u001b[39;00m \u001b[38;5;167;01mKeyError\u001b[39;00m(\u001b[38;5;124mf\u001b[39m\u001b[38;5;124m\"\u001b[39m\u001b[38;5;132;01m{\u001b[39;00mnot_found\u001b[38;5;132;01m}\u001b[39;00m\u001b[38;5;124m not in index\u001b[39m\u001b[38;5;124m\"\u001b[39m)\n",
      "\u001b[1;31mKeyError\u001b[0m: \"['M2'] not in index\""
     ]
    }
   ],
   "source": [
    "df['BC']=(df[['DV','M2','PP','BEEE','FL','FIMS']]<10).sum(axis=1)\n",
    "df"
   ]
  },
  {
   "cell_type": "code",
   "execution_count": null,
   "id": "b4f6c32b-8f27-4489-8909-33fda775fec1",
   "metadata": {},
   "outputs": [],
   "source": [
    "def assign_skills(PP):\n",
    "    if PP >=18 :\n",
    "        return \"very good\"\n",
    "        \n",
    "    elif PP >=15 :\n",
    "        return 'good'\n",
    "    elif PP >= 13:\n",
    "        return 'average'\n",
    "    else:\n",
    "        return 'poor'\n",
    "\n",
    "df['Programming-skills'] = df['PP'].apply(assign_skills)\n",
    "df"
   ]
  },
  {
   "cell_type": "code",
   "execution_count": null,
   "id": "8e01f064-b612-4d0e-af78-397c3d9921e7",
   "metadata": {},
   "outputs": [],
   "source": [
    "df['Programming-skills'].value_counts()"
   ]
  },
  {
   "cell_type": "code",
   "execution_count": null,
   "id": "dd7c0d0c-a0d8-4406-8682-0ea675dc8996",
   "metadata": {},
   "outputs": [],
   "source": [
    "plt.figure(figsize=(8, 6))\n",
    "sns.countplot(x=\"Programming-skills\", data=df, palette=\"Set2\")\n",
    "plt.title(\"Programming Skills Distribution\")\n",
    "plt.xlabel(\"Programming Skills\")\n",
    "plt.ylabel(\"Count\")\n",
    "plt.show()"
   ]
  },
  {
   "cell_type": "code",
   "execution_count": null,
   "id": "40da222c-77ae-4df9-88d5-0e52396ebade",
   "metadata": {},
   "outputs": [],
   "source": [
    "df[\"Programming-skills\"].value_counts().plot( kind=\"pie\", autopct=\"%1.1f%%\", colors=sns.color_palette(\"Set2\"), figsize=(6, 6))\n",
    "plt.title(\"Programming Skills Proportions\")\n",
    "plt.ylabel(\"\")  \n",
    "plt.show()"
   ]
  },
  {
   "cell_type": "code",
   "execution_count": null,
   "id": "b6f146f8-c133-453a-8de4-db7ad745d0b9",
   "metadata": {},
   "outputs": [],
   "source": [
    "plt.figure(figsize=(8, 6))\n",
    "sns.stripplot(x=\"Programming-skills\", y=\"Total\", data=df, jitter=True, palette=\"Set1\")\n",
    "plt.title(\"Distribution of Total Scores by Programming Skill\")\n",
    "plt.xlabel(\"Programming Skills\")\n",
    "plt.ylabel(\"Total Score\")\n",
    "plt.show()"
   ]
  },
  {
   "cell_type": "code",
   "execution_count": null,
   "id": "e67de59f-79e9-4efa-8017-74e86266a65d",
   "metadata": {},
   "outputs": [],
   "source": [
    " df.BC.value_counts()"
   ]
  },
  {
   "cell_type": "code",
   "execution_count": null,
   "id": "afc563b7-dcff-49b8-806e-d5d7a68b721e",
   "metadata": {},
   "outputs": [],
   "source": [
    "df['DV_Backlog'] = df['DV'] < 10\n",
    "df['M2_Backlog'] = df['M-II'] < 10\n",
    "df['PP_Backlog'] = df['PP'] < 10\n",
    "df['BEEE_Backlog'] = df['BEEE'] < 10\n",
    "df['FL_Backlog'] = df['FL'] < 10\n",
    "df['FIMS_Backlog'] = df['FIMS'] < 10\n",
    "subject_backlogs = {\n",
    "    'DV': df['DV_Backlog'].sum(),\n",
    "    'M2': df['M2_Backlog'].sum(),\n",
    "    'PP': df['PP_Backlog'].sum(),\n",
    "    'BEEE': df['BEEE_Backlog'].sum(),\n",
    "    'FL': df['FL_Backlog'].sum(),\n",
    "    'FIMS': df['FIMS_Backlog'].sum(),\n",
    "}\n",
    "print(subject_backlogs)"
   ]
  },
  {
   "cell_type": "code",
   "execution_count": null,
   "id": "b4ca6dbf-3be2-4ed1-9712-52b86b66a2b0",
   "metadata": {},
   "outputs": [],
   "source": [
    "df['Total_Backlogs'] = (\n",
    "    (df['DV'] < 10) +\n",
    "    (df['M-II'] < 10) +\n",
    "    (df['PP'] < 10) +\n",
    "    (df['BEEE'] < 10) +\n",
    "    (df['FL'] < 10) +\n",
    "    (df['FIMS'] < 10)\n",
    ")\n",
    "section_backlogs = df.groupby('SECTION')['Total_Backlogs'].sum().reset_index()\n",
    "section_backlogs.columns = ['Section', 'Backlogs']\n",
    "print(section_backlogs)\n"
   ]
  },
  {
   "cell_type": "code",
   "execution_count": null,
   "id": "4e51e4f8-c65d-43ef-ab51-d70f30708114",
   "metadata": {},
   "outputs": [],
   "source": [
    "import seaborn as sns\n",
    "import matplotlib.pyplot as plt\n",
    "sns.barplot(data=section_backlogs, x='Section', y='Backlogs', palette='rocket')\n",
    "plt.title(\"Total Backlogs in Each Section\")\n",
    "plt.xlabel(\"Section\")\n",
    "plt.ylabel(\"Number of Backlogs\")\n",
    "plt.show()"
   ]
  },
  {
   "cell_type": "code",
   "execution_count": null,
   "id": "3e3d254c-4e33-43df-9ac2-09403270f4f0",
   "metadata": {},
   "outputs": [],
   "source": [
    "labels = section_backlogs['Section']\n",
    "sizes = section_backlogs['Backlogs']\n",
    "colors = sns.color_palette(\"pastel\", len(labels))  # Example: \"pastel\" palette\n",
    "plt.figure(figsize=(8, 8))\n",
    "plt.pie(sizes, labels=labels, autopct='%1.1f%%', startangle=140, colors=colors)\n",
    "plt.title(\"Percentage of Backlogs in Each Section\")\n",
    "plt.show()"
   ]
  },
  {
   "cell_type": "code",
   "execution_count": null,
   "id": "9335f94f-6926-435b-8c83-2cb45fbab932",
   "metadata": {},
   "outputs": [],
   "source": [
    "backlog_counts = pd.DataFrame(list(subject_backlogs.items()), columns=['Subject', 'Backlogs'])\n",
    "sns.barplot(data=backlog_counts, x='Subject', y='Backlogs', palette='viridis')\n",
    "plt.title(\"Total Backlogs in Each Subject\")\n",
    "plt.xlabel(\"Subjects\")\n",
    "plt.ylabel(\"Number of Backlogs\")\n",
    "plt.show()"
   ]
  },
  {
   "cell_type": "code",
   "execution_count": null,
   "id": "a4f124a1-1903-49c7-b52d-a1d888e98ac0",
   "metadata": {},
   "outputs": [],
   "source": [
    "import matplotlib.pyplot as plt\n",
    "plt.hist(df['BC'],color='red',edgecolor='white',bins=9)\n",
    "plt.xlabel(\"Backlogs count\")\n",
    "plt.ylabel(\"Students\")\n",
    "plt.title(\"Histogram of backlogs\")"
   ]
  },
  {
   "cell_type": "code",
   "execution_count": null,
   "id": "8c48808b-27e9-4a97-8339-0d83e769abc6",
   "metadata": {},
   "outputs": [],
   "source": [
    "correlation_matrix = df[[\"DV\", \"M2\", \"PP\", \"BEEE\", \"FL\", \"FIMS\", \"Total\"]].corr()\n",
    "sns.heatmap(correlation_matrix, annot=True, cmap=\"coolwarm\", fmt=\".2f\")\n",
    "plt.title(\"Correlation Heatmap\")\n",
    "plt.show()"
   ]
  },
  {
   "cell_type": "code",
   "execution_count": null,
   "id": "62e1d507-150f-4dbe-ab8e-805a42c88aeb",
   "metadata": {},
   "outputs": [],
   "source": [
    "sns.barplot(data=df, x=\"BC\", y=\"Total\", ci=None)\n",
    "plt.title(\"Average Total  BackLogs\")\n",
    "plt.xlabel(\"BC\")\n",
    "plt.ylabel(\"Average Total Backlogs\")\n",
    "plt.show()"
   ]
  },
  {
   "cell_type": "code",
   "execution_count": null,
   "id": "e3e21ad5-f588-4e4c-a6b1-9f935765f6f3",
   "metadata": {},
   "outputs": [],
   "source": [
    "import seaborn as sns\n",
    "sns.barplot(data=df, x=\"SECTION\", y=\"Total\", ci=None)\n",
    "plt.title(\"Average Total Marks by Section\")\n",
    "plt.show()"
   ]
  },
  {
   "cell_type": "code",
   "execution_count": null,
   "id": "62b1cbfc-0a8b-40c3-a219-2249191fe52d",
   "metadata": {},
   "outputs": [],
   "source": [
    "sns.boxplot(data=df, x=\"SECTION\", y=\"Total\")\n",
    "plt.title(\"Distribution of Total Marks by Section\")\n",
    "plt.show()"
   ]
  },
  {
   "cell_type": "code",
   "execution_count": null,
   "id": "dc0e6791-4e97-45d7-8db4-c4337b84891d",
   "metadata": {},
   "outputs": [],
   "source": [
    "sns.histplot(data=df, x=\"PERCENTAGE\", bins=10, kde=True)\n",
    "plt.title(\"Distribution of Percentages\")\n",
    "plt.show()"
   ]
  },
  {
   "cell_type": "code",
   "execution_count": null,
   "id": "2a45dbe3-08c6-46b1-ab15-3ed35bd9e374",
   "metadata": {},
   "outputs": [],
   "source": [
    "import matplotlib.pyplot as plt\n",
    "d.plot.line(x='DV',y='Total',color='blue')\n",
    "plt.title(\"Line Graph of DV subject\")\n",
    "plt.ylabel(\"Total\")\n",
    "plt.show()"
   ]
  },
  {
   "cell_type": "markdown",
   "id": "78777bd0-dfa8-4593-b925-854b586d6b63",
   "metadata": {},
   "source": [
    "# Plotting line graph of 'DV' vs 'Total' values"
   ]
  },
  {
   "cell_type": "code",
   "execution_count": null,
   "id": "c4ebdf23-80a9-42c8-9973-143758aa8a63",
   "metadata": {},
   "outputs": [],
   "source": [
    "d.plot.line(x='BEEE',y='Total',color='pink')\n",
    "plt.title(\"Line Graph of BEEE subject\")\n",
    "plt.ylabel(\"Total\")\n",
    "plt.show()"
   ]
  },
  {
   "cell_type": "markdown",
   "id": "6c10eb9d-dbf0-4773-a6fd-419719fd3411",
   "metadata": {},
   "source": [
    "# Plotting line graph of 'BEEE' vs 'Total' values"
   ]
  },
  {
   "cell_type": "code",
   "execution_count": null,
   "id": "6f8a4c50-06ac-41e4-b488-cd160fbf5dfb",
   "metadata": {},
   "outputs": [],
   "source": [
    "df.plot.scatter(x = 'FIMS', y = 'Total',color='red',s=30)\n",
    "plt.title(\"Scatter Plot for FIMS subject\")"
   ]
  },
  {
   "cell_type": "markdown",
   "id": "f43cc737-f19b-48bc-badb-c3bda01d18f0",
   "metadata": {},
   "source": [
    "# Creating scatter plot for 'FIMS' vs 'Total' values"
   ]
  },
  {
   "cell_type": "code",
   "execution_count": null,
   "id": "f22a9966-993b-4d82-95ac-f957d35bf158",
   "metadata": {},
   "outputs": [],
   "source": [
    "df.boxplot(by='DV', column =['Total'], grid = False,color='orange')\n",
    "plt.title(\"Boxplot of DV\")\n",
    "plt.ylabel(\"Total\")\n",
    "plt.show()"
   ]
  },
  {
   "cell_type": "markdown",
   "id": "b5d95429-fc2c-4265-9a90-8e1e956d46d7",
   "metadata": {},
   "source": [
    "# Creating boxplot to visualize 'Total' distribution by 'DV'"
   ]
  },
  {
   "cell_type": "code",
   "execution_count": null,
   "id": "7167512c-a718-49de-b85f-590719e88046",
   "metadata": {},
   "outputs": [],
   "source": [
    "df.boxplot(by='M-II', column =['Total'], grid = False,color='green')\n",
    "plt.title(\"Boxplot of M2\")\n",
    "plt.ylabel(\"Total\")\n",
    "plt.show()"
   ]
  },
  {
   "cell_type": "markdown",
   "id": "b07a6c29-cb5d-4e1f-afca-8d6fcc118905",
   "metadata": {},
   "source": [
    "# Creating boxplot to visualize 'Total' distribution by 'M2"
   ]
  },
  {
   "cell_type": "code",
   "execution_count": null,
   "id": "0e8457ee-3ec8-474b-a1aa-8076e23e5379",
   "metadata": {},
   "outputs": [],
   "source": [
    "plt.hist(df['DV'],color='brown',edgecolor='white',bins=9)\n",
    "plt.xlabel(\"Marks scored in DV subject\")\n",
    "plt.ylabel(\"Students\")\n",
    "plt.title(\"Histogram of DV subject\")"
   ]
  },
  {
   "cell_type": "markdown",
   "id": "bcb881ef-9645-45e5-be1d-c1a0ba637f7b",
   "metadata": {},
   "source": [
    "# Creating histogram to visualize 'DV' subject marks distribution"
   ]
  },
  {
   "cell_type": "code",
   "execution_count": null,
   "id": "ad3eb42d-571b-4080-b3a2-3cbb23ee600a",
   "metadata": {},
   "outputs": [],
   "source": [
    "df.plot()\n",
    "plt.show()"
   ]
  },
  {
   "cell_type": "markdown",
   "id": "367ebed4-dc23-403d-a98a-ef721d9d82fe",
   "metadata": {},
   "source": [
    "# Plotting all columns in the dataframe for visualization"
   ]
  },
  {
   "cell_type": "code",
   "execution_count": null,
   "id": "b235caf2-ce11-4508-b315-30786cdad611",
   "metadata": {},
   "outputs": [],
   "source": []
  },
  {
   "cell_type": "markdown",
   "id": "c210c5e0-96e5-4ac1-ade0-504a1e371bca",
   "metadata": {},
   "source": [
    "# THANK YOU"
   ]
  }
 ],
 "metadata": {
  "kernelspec": {
   "display_name": "Python 3 (ipykernel)",
   "language": "python",
   "name": "python3"
  },
  "language_info": {
   "codemirror_mode": {
    "name": "ipython",
    "version": 3
   },
   "file_extension": ".py",
   "mimetype": "text/x-python",
   "name": "python",
   "nbconvert_exporter": "python",
   "pygments_lexer": "ipython3",
   "version": "3.12.7"
  }
 },
 "nbformat": 4,
 "nbformat_minor": 5
}
